{
  "nbformat": 4,
  "nbformat_minor": 0,
  "metadata": {
    "colab": {
      "provenance": [],
      "include_colab_link": true
    },
    "kernelspec": {
      "name": "python3",
      "display_name": "Python 3"
    },
    "language_info": {
      "name": "python"
    }
  },
  "cells": [
    {
      "cell_type": "markdown",
      "metadata": {
        "id": "view-in-github",
        "colab_type": "text"
      },
      "source": [
        "<a href=\"https://colab.research.google.com/github/DaniGa-Mo/Data_Science/blob/main/Python_Data_Science.ipynb\" target=\"_parent\"><img src=\"https://colab.research.google.com/assets/colab-badge.svg\" alt=\"Open In Colab\"/></a>"
      ]
    },
    {
      "cell_type": "markdown",
      "source": [
        "# Python para Data Science\n",
        "\n",
        "Notebook para el curso de Python para Data Science publicado en la plataforma de [Alura Latam](https://www.aluracursos.com/)"
      ],
      "metadata": {
        "id": "lQx6Mmv0OJyT"
      }
    },
    {
      "cell_type": "markdown",
      "source": [
        "# Introducción a Python\n",
        "¡Vamos a conocer Python, nuestro ambiente de estudio, y también generaremos nuestro primer código en este lenguaje!"
      ],
      "metadata": {
        "id": "7SiB6JIpYKmY"
      }
    },
    {
      "cell_type": "markdown",
      "source": [
        "## Google Colaboratory\n",
        "\n",
        "Ya aprendimos qué es [Python](https://www.python.org/) y ahora aprenderemos a usar nuestra herramienta de ejecución [Google Colaboratory](https://colab.research.google.com/) para programar en un notebook interactivo.\n",
        "\n",
        "Vamos a probar algunas funciones de este ambiente."
      ],
      "metadata": {
        "id": "Yugfb3fCOYY9"
      }
    },
    {
      "cell_type": "markdown",
      "source": [
        " **`>>> Usa esta celda para mover <<<`**"
      ],
      "metadata": {
        "id": "2iUHQsJasJAk"
      }
    },
    {
      "cell_type": "code",
      "source": [],
      "metadata": {
        "id": "o7jrX_iKhdkU"
      },
      "execution_count": null,
      "outputs": []
    },
    {
      "cell_type": "markdown",
      "source": [
        "## ¡Hola mundo!\n",
        "\n",
        "Vamos a conocer un poco más de cerca nuestro notebook. Para ello ejecutaremos nuestro primer comando en Python: [`print()`](https://docs.python.org/3/library/functions.html#print)"
      ],
      "metadata": {
        "id": "aLSFP2V7XTfe"
      }
    },
    {
      "cell_type": "code",
      "source": [
        "print('¡Hola mundo!')"
      ],
      "metadata": {
        "id": "0qZX8_ZQBYyk",
        "colab": {
          "base_uri": "https://localhost:8080/"
        },
        "outputId": "24bb741f-346e-4ee1-96f2-6b85b28481d6"
      },
      "execution_count": null,
      "outputs": [
        {
          "output_type": "stream",
          "name": "stdout",
          "text": [
            "¡Hola mundo!\n"
          ]
        }
      ]
    },
    {
      "cell_type": "code",
      "source": [
        "15"
      ],
      "metadata": {
        "id": "GLMzF_AKBY7a",
        "colab": {
          "base_uri": "https://localhost:8080/"
        },
        "outputId": "8810b84d-39e8-42a4-bd0b-62b44a1f0333"
      },
      "execution_count": null,
      "outputs": [
        {
          "output_type": "execute_result",
          "data": {
            "text/plain": [
              "15"
            ]
          },
          "metadata": {},
          "execution_count": 3
        }
      ]
    },
    {
      "cell_type": "code",
      "source": [
        "print('Hola soy Daniel y me gusta la Ciencia de Datos')"
      ],
      "metadata": {
        "colab": {
          "base_uri": "https://localhost:8080/"
        },
        "id": "AF0o0MbnVlo7",
        "outputId": "f2568541-2897-499b-dc1b-cb8589c2ce20"
      },
      "execution_count": null,
      "outputs": [
        {
          "output_type": "stream",
          "name": "stdout",
          "text": [
            "Hola soy Daniel y me gusta la Ciencia de Datos\n"
          ]
        }
      ]
    },
    {
      "cell_type": "markdown",
      "source": [
        "# Practica función print()"
      ],
      "metadata": {
        "id": "uquzsUl8WiJE"
      }
    },
    {
      "cell_type": "code",
      "source": [
        "print(\"Escuela de Datos de Alura\")"
      ],
      "metadata": {
        "colab": {
          "base_uri": "https://localhost:8080/"
        },
        "id": "hoa2S5cwWsN8",
        "outputId": "9c6aa385-a178-4f49-d06c-fc0bbbce29a8"
      },
      "execution_count": null,
      "outputs": [
        {
          "output_type": "stream",
          "name": "stdout",
          "text": [
            "Escuela de Datos de Alura\n"
          ]
        }
      ]
    },
    {
      "cell_type": "code",
      "source": [
        "print('Nombre: Daniel' + '\\n' +\n",
        "      'Apellido: Gallardo')"
      ],
      "metadata": {
        "colab": {
          "base_uri": "https://localhost:8080/"
        },
        "id": "xMCulYVLW0y6",
        "outputId": "d83f2f2c-48ff-4227-f66a-eaebc702bbe5"
      },
      "execution_count": null,
      "outputs": [
        {
          "output_type": "stream",
          "name": "stdout",
          "text": [
            "Nombre: Daniel\n",
            "Apellido: Gallardo\n"
          ]
        }
      ]
    },
    {
      "cell_type": "code",
      "source": [
        "print('D'+ '\\n' +'A'+ '\\n' +'N'+ '\\n' + 'I'+ '\\n' + 'E' + '\\n' + 'L')"
      ],
      "metadata": {
        "colab": {
          "base_uri": "https://localhost:8080/"
        },
        "id": "_5BQKApcXtXJ",
        "outputId": "11e0cb76-0993-43b6-8c27-ea5e822a9174"
      },
      "execution_count": null,
      "outputs": [
        {
          "output_type": "stream",
          "name": "stdout",
          "text": [
            "D\n",
            "A\n",
            "N\n",
            "I\n",
            "E\n",
            "L\n"
          ]
        }
      ]
    },
    {
      "cell_type": "code",
      "source": [
        "print(str(22) + ' Noviembre ' + str(1994))"
      ],
      "metadata": {
        "colab": {
          "base_uri": "https://localhost:8080/"
        },
        "id": "Rkqonr7MYxii",
        "outputId": "4c5e35bb-a51d-4558-f96d-3b07cae8c2b5"
      },
      "execution_count": null,
      "outputs": [
        {
          "output_type": "stream",
          "name": "stdout",
          "text": [
            "22 Noviembre 1994\n"
          ]
        }
      ]
    },
    {
      "cell_type": "code",
      "source": [
        "print(22, 'Noviembre', 1994)"
      ],
      "metadata": {
        "id": "WnNcoOU8Za2l",
        "outputId": "3fd7a73f-8f7d-4d00-a6e5-f673891ad985",
        "colab": {
          "base_uri": "https://localhost:8080/"
        }
      },
      "execution_count": null,
      "outputs": [
        {
          "output_type": "stream",
          "name": "stdout",
          "text": [
            "22 Noviembre 1994\n"
          ]
        }
      ]
    },
    {
      "cell_type": "code",
      "source": [
        "print('Año actual:',2025)"
      ],
      "metadata": {
        "id": "VWqHRVSQZrWx",
        "outputId": "5287a1e6-44fb-4b22-8f04-77b2f3289af1",
        "colab": {
          "base_uri": "https://localhost:8080/"
        }
      },
      "execution_count": null,
      "outputs": [
        {
          "output_type": "stream",
          "name": "stdout",
          "text": [
            "Año actual: 2025\n"
          ]
        }
      ]
    },
    {
      "cell_type": "code",
      "source": [
        "print('Año actual: ' + str(2025))"
      ],
      "metadata": {
        "id": "IPe0cX90Z8RU",
        "outputId": "3f3672db-dfe6-4f4f-ce83-d00cead1ed99",
        "colab": {
          "base_uri": "https://localhost:8080/"
        }
      },
      "execution_count": null,
      "outputs": [
        {
          "output_type": "stream",
          "name": "stdout",
          "text": [
            "Año actual: 2025\n"
          ]
        }
      ]
    },
    {
      "cell_type": "markdown",
      "source": [
        "# Manipulando los datos\n",
        "\n",
        "Vamos a aprender sobre las variables en Python, cómo declararlas y utilizarlas además de conocer otros comandos de este lenguaje. :D"
      ],
      "metadata": {
        "id": "iP8uWQmFYFRs"
      }
    },
    {
      "cell_type": "markdown",
      "source": [
        "## Variables\n",
        "\n",
        "En Data Science trabajamos con varios tipos de datos e informaciones, entonces es esencial saber cómo trabajar con las variables."
      ],
      "metadata": {
        "id": "sLNVmnTbag1Z"
      }
    },
    {
      "cell_type": "markdown",
      "source": [
        "Las variables en Python se crean cuando atribuimos un valor a ella.\n",
        "\n",
        "Para esto, colocamos el nombre de la variable, el signo de igual (`=`) y el valor que queremos atribuirle."
      ],
      "metadata": {
        "id": "lsCY0wahAbf6"
      }
    },
    {
      "cell_type": "code",
      "source": [
        "nombre = 'Daniel'"
      ],
      "metadata": {
        "id": "vsHh5buZADND"
      },
      "execution_count": null,
      "outputs": []
    },
    {
      "cell_type": "code",
      "source": [
        "edad =  29"
      ],
      "metadata": {
        "id": "sivPtqSjADQV"
      },
      "execution_count": null,
      "outputs": []
    },
    {
      "cell_type": "code",
      "source": [],
      "metadata": {
        "id": "JC8jO47wADlm"
      },
      "execution_count": null,
      "outputs": []
    },
    {
      "cell_type": "markdown",
      "source": [
        "Existen algunos tipos de nomes que **no** podemos definir para las variables:\n",
        "\n",
        "- **Nombres que comiencen con números**\n",
        "  - Ejemplos: `10_notas`, `2_nombre_casa`, etc.\n",
        "- **Palabras separadas por espacio**\n",
        "  - Ejemplos: `Nombre escuela`, `notas estudiantes`, etc.\n",
        "- **Nombres de funciones de Python**\n",
        "  - Ejemplos: `print`, `type`, etc."
      ],
      "metadata": {
        "id": "om2N0jHKAzwL"
      }
    },
    {
      "cell_type": "markdown",
      "source": [
        "> Las letras mayúsculas y minúsculas generarán diferentes variables. La variable `edad` es diferente de `Edad` que a su vez es diferente de `EDAD`:\n",
        "``` Python\n",
        "edad = 1\n",
        "Edad = 2\n",
        "EDAD = 3\n",
        "_edad = 4\n",
        "_edad_ = 5\n",
        "print(edad, Edad, EDAD, _edad, _edad_)\n",
        "1 2 3 4 5\n",
        "```"
      ],
      "metadata": {
        "id": "A19vY2GVMujB"
      }
    },
    {
      "cell_type": "markdown",
      "source": [
        "## Tipos de variables\n",
        "\n",
        "Cada variable contiene una clase específica con respecto al tipo de objeto al cual esta hace referencia. Estas clases serán diferentes de acuerdo con el tipo de dato que le sea atribuido a una variable.\n",
        "\n",
        "Para conocer la clase de cada elemento usamos la función [`type()`](https://docs.python.org/3/library/functions.html#type)"
      ],
      "metadata": {
        "id": "UqhzuBhBHsps"
      }
    },
    {
      "cell_type": "code",
      "source": [],
      "metadata": {
        "id": "J5a9t73A_-PX"
      },
      "execution_count": null,
      "outputs": []
    },
    {
      "cell_type": "code",
      "source": [],
      "metadata": {
        "id": "rqmO1ew-_-So"
      },
      "execution_count": null,
      "outputs": []
    },
    {
      "cell_type": "code",
      "source": [],
      "metadata": {
        "id": "xkrPMkeY_-cP"
      },
      "execution_count": null,
      "outputs": []
    },
    {
      "cell_type": "markdown",
      "source": [
        "En un conjunto de datos escolares podemos tener varios tipos de informaciones. Supongamos que tenemos acceso a la ficha de datos del alumno *Penélope Camacho*, cómo transformamos este nombre en variables de Python?\n",
        "\n",
        "#### Ficha:\n",
        "\n",
        "- Nombre: Penélope Camacho\n",
        "- Edad: 11 años\n",
        "- Promedio del semestre: 9,75\n",
        "- Situación de aprobación: Verdadera (aprobado)"
      ],
      "metadata": {
        "id": "O-FxDumfWu0C"
      }
    },
    {
      "cell_type": "code",
      "source": [
        "nombre = 'Penelope Camacho'\n",
        "edad = 11\n",
        "promedio = 9.75\n",
        "aprobado = True"
      ],
      "metadata": {
        "id": "FabQ7jQf_8Xt"
      },
      "execution_count": null,
      "outputs": []
    },
    {
      "cell_type": "code",
      "source": [
        "print(type(nombre))\n",
        "print(type(edad))\n",
        "print(type(promedio))\n",
        "print(type(aprobado))"
      ],
      "metadata": {
        "id": "IZLQnZUj_8bd",
        "colab": {
          "base_uri": "https://localhost:8080/"
        },
        "outputId": "def9cd56-dd20-464f-9c11-019d54919ced"
      },
      "execution_count": null,
      "outputs": [
        {
          "output_type": "stream",
          "name": "stdout",
          "text": [
            "<class 'str'>\n",
            "<class 'int'>\n",
            "<class 'float'>\n",
            "<class 'bool'>\n"
          ]
        }
      ]
    },
    {
      "cell_type": "markdown",
      "source": [
        "## Variables numéricas\n",
        "\n",
        "Entre los tipos de datos numéricos vamos a enfocarnos en los tipos `entero` y `float`."
      ],
      "metadata": {
        "id": "KFq_8Sxf-OG0"
      }
    },
    {
      "cell_type": "markdown",
      "source": [
        "Tenemos una tabla de información sobre los diversos cargos, cantidad de personas empleadas y el salario correspondiente:\n",
        "\n",
        "|Cargo | Cantidad | Salario|\n",
        "|---|---|---|\n",
        "|Vigilante | 5 | 300 |\n",
        "|Docente | 16| 500|\n",
        "|Coordinador| 2 |600|\n",
        "\n",
        "Necesitamos trabajar con estos datos para obtener:\n",
        "\n",
        "- La cantidad total de empleados;\n",
        "- La diferencia entre el salario más bajo y más alto; y\n",
        "- El promedio ponderado de los salarios de los empleados de la escuela."
      ],
      "metadata": {
        "id": "8_HYUbkVYdQY"
      }
    },
    {
      "cell_type": "code",
      "source": [
        "c_vigilantes = 5\n",
        "c_docentes = 16\n",
        "c_coordinadores = 2\n",
        "\n",
        "s_vigilantes = 300\n",
        "s_docentes = 500\n",
        "s_coordinadores = 600"
      ],
      "metadata": {
        "id": "F_X-wxdm_5Ys"
      },
      "execution_count": null,
      "outputs": []
    },
    {
      "cell_type": "code",
      "source": [
        "total_empleados = c_vigilantes + c_docentes + c_coordinadores\n",
        "total_empleados"
      ],
      "metadata": {
        "id": "gKmBbhII_5b9",
        "colab": {
          "base_uri": "https://localhost:8080/"
        },
        "outputId": "945c7c52-7e6b-41d4-850d-592794a3c871"
      },
      "execution_count": null,
      "outputs": [
        {
          "output_type": "execute_result",
          "data": {
            "text/plain": [
              "23"
            ]
          },
          "metadata": {},
          "execution_count": 4
        }
      ]
    },
    {
      "cell_type": "code",
      "source": [
        "diferencia = s_coordinadores - s_vigilantes\n",
        "diferencia"
      ],
      "metadata": {
        "id": "fIugsxNy_53j",
        "colab": {
          "base_uri": "https://localhost:8080/"
        },
        "outputId": "41e437a3-d7af-44d8-f765-b2ee3a5a1b7d"
      },
      "execution_count": null,
      "outputs": [
        {
          "output_type": "execute_result",
          "data": {
            "text/plain": [
              "300"
            ]
          },
          "metadata": {},
          "execution_count": 7
        }
      ]
    },
    {
      "cell_type": "code",
      "source": [
        "promedio = (s_vigilantes * c_vigilantes + s_docentes * c_docentes + s_coordinadores * c_coordinadores) / (c_vigilantes + c_docentes + c_coordinadores)\n",
        "print(type(promedio))\n",
        "promedio"
      ],
      "metadata": {
        "colab": {
          "base_uri": "https://localhost:8080/"
        },
        "id": "O1sX6E7MZCtk",
        "outputId": "905b1a5b-affc-4816-ca9e-c4946d593983"
      },
      "execution_count": null,
      "outputs": [
        {
          "output_type": "stream",
          "name": "stdout",
          "text": [
            "<class 'float'>\n"
          ]
        },
        {
          "output_type": "execute_result",
          "data": {
            "text/plain": [
              "465.2173913043478"
            ]
          },
          "metadata": {},
          "execution_count": 9
        }
      ]
    },
    {
      "cell_type": "markdown",
      "source": [
        "## Strings"
      ],
      "metadata": {
        "id": "yQy7b0ZWoD-P"
      }
    },
    {
      "cell_type": "markdown",
      "source": [
        "Strings hace referencia a un conjunto de caracteres formando un texto.\n",
        "\n",
        "Podemos crear Strings cuando atribuimos un dato a una variable entre comillas sencillas (`'`) o comillas dobles (`\"`)."
      ],
      "metadata": {
        "id": "vlo2-DXusv3s"
      }
    },
    {
      "cell_type": "code",
      "source": [
        "nombre = \"Daniel\""
      ],
      "metadata": {
        "id": "ityEWqvh_2wK"
      },
      "execution_count": null,
      "outputs": []
    },
    {
      "cell_type": "markdown",
      "source": [
        "Las variables textuales son objetos que poseen métodos que nos ayudan a formatear strings. Los métodos los podemos ejecutar al definir un objeto de acuerdo con la siguiente estructura:\n",
        "\n",
        "```\n",
        "objeto.metodo()\n",
        "```\n",
        "\n",
        "Existen métodos que no necesitan los `()`, siempre es una buena práctica verificar la documentación para cada caso."
      ],
      "metadata": {
        "id": "2e9UD_CCxqz_"
      }
    },
    {
      "cell_type": "markdown",
      "source": [
        "---\n",
        "**Situación:**\n",
        "\n",
        "Recibimos una variable con el nombre de una profesora de la escuela para añadirla a los registros. Sin embargo, necesitamos darle un tratamiento a este texto antes de insertarlo al sistema."
      ],
      "metadata": {
        "id": "p6aPmMGP4tf9"
      }
    },
    {
      "cell_type": "code",
      "source": [
        "texto = '  Micaela de los Sanyos '"
      ],
      "metadata": {
        "id": "icDWtYTjBO0n"
      },
      "execution_count": null,
      "outputs": []
    },
    {
      "cell_type": "markdown",
      "source": [
        "El objetivo final es que el nombre aparezca de la siguiente forma:\n",
        "\n",
        "```\n",
        "'MICAELA DE LOS SANTOS'\n",
        "```"
      ],
      "metadata": {
        "id": "Dg2ZXSZOGzjC"
      }
    },
    {
      "cell_type": "markdown",
      "source": [
        "### [`str.upper()` ](https://docs.python.org/3/library/stdtypes.html#str.upper)\n",
        "Convierte una string a mayúsculas."
      ],
      "metadata": {
        "id": "iVTAD8q702eN"
      }
    },
    {
      "cell_type": "code",
      "source": [
        "texto.upper()"
      ],
      "metadata": {
        "id": "wMVshJrY_ZXh",
        "colab": {
          "base_uri": "https://localhost:8080/",
          "height": 36
        },
        "outputId": "183adad5-f88a-4f41-91c1-770828fb7065"
      },
      "execution_count": null,
      "outputs": [
        {
          "output_type": "execute_result",
          "data": {
            "text/plain": [
              "'  MICAELA DE LOS SANYOS '"
            ],
            "application/vnd.google.colaboratory.intrinsic+json": {
              "type": "string"
            }
          },
          "metadata": {},
          "execution_count": 14
        }
      ]
    },
    {
      "cell_type": "markdown",
      "source": [
        "### [`str.lower()`](https://docs.python.org/3/library/stdtypes.html#str.lower)\n",
        "Convierte una string a minúsculas."
      ],
      "metadata": {
        "id": "hbDSBtMV1TpG"
      }
    },
    {
      "cell_type": "code",
      "source": [
        "texto.lower()"
      ],
      "metadata": {
        "id": "px3yEeNH_YK4",
        "colab": {
          "base_uri": "https://localhost:8080/",
          "height": 36
        },
        "outputId": "d8b8aa96-a855-4e51-93fb-d315128162dd"
      },
      "execution_count": null,
      "outputs": [
        {
          "output_type": "execute_result",
          "data": {
            "text/plain": [
              "'  micaela de los sanyos '"
            ],
            "application/vnd.google.colaboratory.intrinsic+json": {
              "type": "string"
            }
          },
          "metadata": {},
          "execution_count": 15
        }
      ]
    },
    {
      "cell_type": "markdown",
      "source": [
        "### [`str.strip()`](https://docs.python.org/3/library/stdtypes.html#str.strip)\n",
        "Elimina los espacios en blanco al inicio y al final de una string."
      ],
      "metadata": {
        "id": "kz47eWM11gii"
      }
    },
    {
      "cell_type": "code",
      "source": [
        "texto.strip()"
      ],
      "metadata": {
        "id": "76dLgNa4_XAe",
        "colab": {
          "base_uri": "https://localhost:8080/",
          "height": 36
        },
        "outputId": "02bf01a7-119b-462f-d2d3-4481db21175b"
      },
      "execution_count": null,
      "outputs": [
        {
          "output_type": "execute_result",
          "data": {
            "text/plain": [
              "'Micaela de los Sanyos'"
            ],
            "application/vnd.google.colaboratory.intrinsic+json": {
              "type": "string"
            }
          },
          "metadata": {},
          "execution_count": 16
        }
      ]
    },
    {
      "cell_type": "markdown",
      "source": [
        "### [`str.replace(antiguo, nuevo)`](https://docs.python.org/3/library/stdtypes.html#str.replace)\n",
        "\n",
        "Sustituye todas las ocurrencias del texto \"antiguo\" en la string por el  \"nuevo\"."
      ],
      "metadata": {
        "id": "m6notiyS1SCV"
      }
    },
    {
      "cell_type": "code",
      "source": [
        "texto.replace('y','t')"
      ],
      "metadata": {
        "id": "PNXAixtE_V6R",
        "colab": {
          "base_uri": "https://localhost:8080/",
          "height": 36
        },
        "outputId": "30be5990-da83-46c6-8e00-fd907bdec375"
      },
      "execution_count": null,
      "outputs": [
        {
          "output_type": "execute_result",
          "data": {
            "text/plain": [
              "'  Micaela de los Santos '"
            ],
            "application/vnd.google.colaboratory.intrinsic+json": {
              "type": "string"
            }
          },
          "metadata": {},
          "execution_count": 17
        }
      ]
    },
    {
      "cell_type": "markdown",
      "source": [
        "### Observaciones\n",
        "\n",
        "1. Los métodos devuelven una **tranformación**, no son ejecutados directamente sobre la variable donde está almacenado el texto.\n",
        "\n",
        "2. Adicionalmente, podemos acumular la ejecución de los métodos."
      ],
      "metadata": {
        "id": "zukvEjhG2Rcn"
      }
    },
    {
      "cell_type": "code",
      "source": [
        "texto.strip().replace('y','t').upper()"
      ],
      "metadata": {
        "id": "JjkBRklr_T5n",
        "colab": {
          "base_uri": "https://localhost:8080/",
          "height": 36
        },
        "outputId": "28ee148e-77ce-44c4-f172-8921574898d9"
      },
      "execution_count": null,
      "outputs": [
        {
          "output_type": "execute_result",
          "data": {
            "text/plain": [
              "'MICAELA DE LOS SANTOS'"
            ],
            "application/vnd.google.colaboratory.intrinsic+json": {
              "type": "string"
            }
          },
          "metadata": {},
          "execution_count": 18
        }
      ]
    },
    {
      "cell_type": "markdown",
      "source": [
        "Para que la transformación se pueda ejecutar debemos atribuir la salida de las transformaciones a las variables"
      ],
      "metadata": {
        "id": "1KbwfVut2h6I"
      }
    },
    {
      "cell_type": "markdown",
      "source": [
        "# Otros Operadores"
      ],
      "metadata": {
        "id": "0F2-FedWamNi"
      }
    },
    {
      "cell_type": "code",
      "source": [
        "# Exponenciación (**)\n",
        "\n",
        "operador = 2\n",
        "potencia = 3\n",
        "operador ** potencia"
      ],
      "metadata": {
        "colab": {
          "base_uri": "https://localhost:8080/"
        },
        "id": "bo8yOqliavNm",
        "outputId": "218331ee-c548-4299-f739-25dce94d5fdb"
      },
      "execution_count": null,
      "outputs": [
        {
          "output_type": "execute_result",
          "data": {
            "text/plain": [
              "8"
            ]
          },
          "metadata": {},
          "execution_count": 20
        }
      ]
    },
    {
      "cell_type": "code",
      "source": [
        "# Módulo (%)\n",
        "\n",
        "dividendo = 7\n",
        "divisor = 3\n",
        "dividendo % divisor"
      ],
      "metadata": {
        "colab": {
          "base_uri": "https://localhost:8080/"
        },
        "id": "pZgR5czwa3rz",
        "outputId": "d8b0e2d0-39c3-4723-af83-3c3ccd630887"
      },
      "execution_count": null,
      "outputs": [
        {
          "output_type": "execute_result",
          "data": {
            "text/plain": [
              "1"
            ]
          },
          "metadata": {},
          "execution_count": 21
        }
      ]
    },
    {
      "cell_type": "code",
      "source": [
        "# División entera (//)\n",
        "\n",
        "numerador = 7\n",
        "denominador = 3\n",
        "numerador // denominador"
      ],
      "metadata": {
        "colab": {
          "base_uri": "https://localhost:8080/"
        },
        "id": "nWu3K23QbCmB",
        "outputId": "3e50d086-f8dd-4fda-fc2c-2645a43b27ed"
      },
      "execution_count": null,
      "outputs": [
        {
          "output_type": "execute_result",
          "data": {
            "text/plain": [
              "2"
            ]
          },
          "metadata": {},
          "execution_count": 22
        }
      ]
    },
    {
      "cell_type": "markdown",
      "source": [
        "## Capturando datos\n",
        "\n",
        "En algunas aplicaciones necesitamos capturar los valores del usuario de nuestro proyecto. En python, logramos capturar los datos del usuario a través del comando [`input()`](https://docs.python.org/3/library/functions.html#input).\n",
        "\n",
        "Para ejecutar la captura debemos atribuir el resultado de esta función a una variable."
      ],
      "metadata": {
        "id": "0h9Fh5G9kHCa"
      }
    },
    {
      "cell_type": "code",
      "source": [
        "nombre = input('¿Cuál es tu nombre? ')"
      ],
      "metadata": {
        "id": "zbH_9i3q_PdY",
        "colab": {
          "base_uri": "https://localhost:8080/"
        },
        "outputId": "6b250a3c-4e4a-46b0-de17-246b46dc4e29"
      },
      "execution_count": null,
      "outputs": [
        {
          "name": "stdout",
          "output_type": "stream",
          "text": [
            "¿Cuál es tu nombre? Daniel\n"
          ]
        }
      ]
    },
    {
      "cell_type": "code",
      "source": [
        "type(nombre)"
      ],
      "metadata": {
        "id": "JZy1Q9Tl_PgL",
        "colab": {
          "base_uri": "https://localhost:8080/"
        },
        "outputId": "e9d3f48f-13ef-474f-c27a-1767fd47eda8"
      },
      "execution_count": null,
      "outputs": [
        {
          "output_type": "execute_result",
          "data": {
            "text/plain": [
              "str"
            ]
          },
          "metadata": {},
          "execution_count": 24
        }
      ]
    },
    {
      "cell_type": "markdown",
      "source": [
        "La salida de este comando siempre será una *string*. Esto quiere decir que aunque capturemos un valor de variable numérica, este será de tipo string.\n",
        "\n",
        "Entonces, será necesario **convertir el resultado cuando no se desea utilizar el valor como tipo string**."
      ],
      "metadata": {
        "id": "7z7hcLCk_aCY"
      }
    },
    {
      "cell_type": "markdown",
      "source": [
        "Existen funciones para la conversión de valores:\n",
        "\n",
        "- Enteros: [`int(dato_para_conversion)`](https://docs.python.org/3/library/functions.html#int)\n",
        "- Coma flotante: [`float(dato_para_conversion)`](https://docs.python.org/3/library/functions.html#float)\n",
        "- String: [`str(dato_para_conversion)`](https://docs.python.org/3/library/functions.html#func-str)\n",
        "- Booleano: [`bool(dato_para_conversion)`](https://docs.python.org/3/library/functions.html#bool)"
      ],
      "metadata": {
        "id": "TOlegATj1Jfp"
      }
    },
    {
      "cell_type": "code",
      "source": [
        "ano_admision = int(input('¿En qué año ingresaste a la escuela? '))"
      ],
      "metadata": {
        "id": "M2ueeH6l_NMe",
        "colab": {
          "base_uri": "https://localhost:8080/"
        },
        "outputId": "036a82d6-6b2f-46f4-a54c-a5b8ee9bb905"
      },
      "execution_count": null,
      "outputs": [
        {
          "name": "stdout",
          "output_type": "stream",
          "text": [
            "¿En qué año ingresaste a la escuela? 2025\n"
          ]
        }
      ]
    },
    {
      "cell_type": "code",
      "source": [
        "type(ano_admision)"
      ],
      "metadata": {
        "id": "xfWwuViK_NUn",
        "colab": {
          "base_uri": "https://localhost:8080/"
        },
        "outputId": "076dc041-0484-4f56-8bf3-cb823ad31f0a"
      },
      "execution_count": null,
      "outputs": [
        {
          "output_type": "execute_result",
          "data": {
            "text/plain": [
              "int"
            ]
          },
          "metadata": {},
          "execution_count": 26
        }
      ]
    },
    {
      "cell_type": "code",
      "source": [
        "nota_admision = float(input('¿Cuál fue tu promedio en el semestre anterior? '))"
      ],
      "metadata": {
        "id": "uFCHDyew_NZm",
        "colab": {
          "base_uri": "https://localhost:8080/"
        },
        "outputId": "cd568447-89a1-49b5-8eb8-c2f6d4dc4937"
      },
      "execution_count": null,
      "outputs": [
        {
          "name": "stdout",
          "output_type": "stream",
          "text": [
            "¿Cuál fue tu promedio en el semestre anterior? 9.5\n"
          ]
        }
      ]
    },
    {
      "cell_type": "code",
      "source": [
        "type(nota_admision)"
      ],
      "metadata": {
        "colab": {
          "base_uri": "https://localhost:8080/"
        },
        "id": "8FCaC_9hc6Q8",
        "outputId": "9a1efa09-a8de-441b-ac7f-f3b1a98725c3"
      },
      "execution_count": null,
      "outputs": [
        {
          "output_type": "execute_result",
          "data": {
            "text/plain": [
              "float"
            ]
          },
          "metadata": {},
          "execution_count": 28
        }
      ]
    },
    {
      "cell_type": "markdown",
      "source": [
        "Trataremos de representar mejor ahora el resultado de la transformación que obtuvimos. Nosotros podemos formatear y presentar nuestro resultado mezclando strings con valores no textuales.\n",
        "\n",
        "Para ello utilizamos la estructura de formatación `f` con strings."
      ],
      "metadata": {
        "id": "yNI2-XTbB3aS"
      }
    },
    {
      "cell_type": "code",
      "source": [
        "print(f'\\tEl año de admision es: {ano_admision}\\n\\tLa nota de admisión es: {nota_admision}')\n"
      ],
      "metadata": {
        "id": "keJjA5N9_K5i",
        "colab": {
          "base_uri": "https://localhost:8080/"
        },
        "outputId": "a2ff705a-aaa5-45fc-b645-9c13ea552928"
      },
      "execution_count": null,
      "outputs": [
        {
          "output_type": "stream",
          "name": "stdout",
          "text": [
            "\tEl año de admision es: 2025\n",
            "\tLa nota de admisión es: 9.5\n"
          ]
        }
      ]
    },
    {
      "cell_type": "code",
      "source": [
        "nombre = \"Ana María\"\n",
        "edad = 17\n",
        "print(f\"El nombre de la alumna es {nombre} y su edad es {edad} años.\")"
      ],
      "metadata": {
        "colab": {
          "base_uri": "https://localhost:8080/"
        },
        "id": "R7qnUfsvf1ht",
        "outputId": "31c741df-22ec-4d7c-ae7b-78d1daf3defd"
      },
      "execution_count": null,
      "outputs": [
        {
          "output_type": "stream",
          "name": "stdout",
          "text": [
            "El nombre de la alumna es Ana María y su edad es 17 años.\n"
          ]
        }
      ]
    },
    {
      "cell_type": "code",
      "source": [
        "nombre_alumno = 'Penélope Camacho'\n",
        "print('Nombre del alumno: %s' %(nombre_alumno))"
      ],
      "metadata": {
        "colab": {
          "base_uri": "https://localhost:8080/"
        },
        "id": "8MngVi9mgje7",
        "outputId": "2b021627-04a4-4391-9ca2-013e2840f2ff"
      },
      "execution_count": null,
      "outputs": [
        {
          "output_type": "stream",
          "name": "stdout",
          "text": [
            "Nombre del alumno: Penélope Camacho\n"
          ]
        }
      ]
    },
    {
      "cell_type": "code",
      "source": [
        "nombre_alumno = 'Penélope Camacho'\n",
        "edad_alumno = 11\n",
        "media_alumno = 9.95\n",
        "print('Nombre del alumno es %s, tiene %d años y su media es %f.' %(nombre_alumno, edad_alumno, media_alumno))"
      ],
      "metadata": {
        "colab": {
          "base_uri": "https://localhost:8080/"
        },
        "id": "6h6R19b_gkze",
        "outputId": "63fcb63d-41a4-427c-d051-b526ce83ebdc"
      },
      "execution_count": null,
      "outputs": [
        {
          "output_type": "stream",
          "name": "stdout",
          "text": [
            "Nombre del alumno es Penélope Camacho, tiene 11 años y su media es 9.950000.\n"
          ]
        }
      ]
    },
    {
      "cell_type": "code",
      "source": [
        "print('Nombre del alumno es %s, tiene %d años y su media es %.2f.' %(nombre_alumno, edad_alumno, media_alumno))"
      ],
      "metadata": {
        "colab": {
          "base_uri": "https://localhost:8080/"
        },
        "id": "qrrgKTNRg9Kr",
        "outputId": "09614f6b-37e3-4570-8c86-020d5cc928d4"
      },
      "execution_count": null,
      "outputs": [
        {
          "output_type": "stream",
          "name": "stdout",
          "text": [
            "Nombre del alumno es Penélope Camacho, tiene 11 años y su media es 9.95.\n"
          ]
        }
      ]
    },
    {
      "cell_type": "code",
      "source": [
        "x = True\n",
        "print(\"Valor de x: %s\" % str(x))"
      ],
      "metadata": {
        "colab": {
          "base_uri": "https://localhost:8080/"
        },
        "id": "1esBdQmlhIdR",
        "outputId": "26720433-4996-4cb7-e11f-4f6641c402ca"
      },
      "execution_count": null,
      "outputs": [
        {
          "output_type": "stream",
          "name": "stdout",
          "text": [
            "Valor de x: True\n"
          ]
        }
      ]
    },
    {
      "cell_type": "code",
      "source": [
        "nombre_alumno = 'Penélope Camacho'\n",
        "print('Nombre del alumno: {}'.format(nombre_alumno))"
      ],
      "metadata": {
        "colab": {
          "base_uri": "https://localhost:8080/"
        },
        "id": "6joV2OvwhS9X",
        "outputId": "c9cd75fa-94f4-440c-a70d-ee2e2ba489cf"
      },
      "execution_count": null,
      "outputs": [
        {
          "output_type": "stream",
          "name": "stdout",
          "text": [
            "Nombre del alumno: Penélope Camacho\n"
          ]
        }
      ]
    },
    {
      "cell_type": "code",
      "source": [
        "nombre_alumno = 'Fabricio Daniel'\n",
        "edad_alumno = 15\n",
        "media_alumno = 9.95\n",
        "print('Nombre del alumno es {}, tiene {} años y su media es {}.' .format(nombre_alumno, edad_alumno, media_alumno))\n"
      ],
      "metadata": {
        "colab": {
          "base_uri": "https://localhost:8080/"
        },
        "id": "nCrs05LMhZjY",
        "outputId": "a16d8730-f368-4954-b7fb-992b652a1dff"
      },
      "execution_count": null,
      "outputs": [
        {
          "output_type": "stream",
          "name": "stdout",
          "text": [
            "Nombre del alumno es Fabricio Daniel, tiene 15 años y su media es 9.95.\n"
          ]
        }
      ]
    },
    {
      "cell_type": "code",
      "source": [
        "print(\"Estudiar es un esfuerzo constante,\\nEs como cultivar una planta,\\nNecesitamos dedicación y paciencia,\\nPara ver madurar el fruto.\")\n"
      ],
      "metadata": {
        "colab": {
          "base_uri": "https://localhost:8080/"
        },
        "id": "ykfANBURhsUI",
        "outputId": "2d3aa613-87be-4833-ee02-8679d9951312"
      },
      "execution_count": null,
      "outputs": [
        {
          "output_type": "stream",
          "name": "stdout",
          "text": [
            "Estudiar es un esfuerzo constante,\n",
            "Es como cultivar una planta,\n",
            "Necesitamos dedicación y paciencia,\n",
            "Para ver madurar el fruto.\n"
          ]
        }
      ]
    },
    {
      "cell_type": "code",
      "source": [
        "print('Cantidad\\tCalidad\\n5 muestras\\tAlta\\n3 muestras\\tBaja')"
      ],
      "metadata": {
        "colab": {
          "base_uri": "https://localhost:8080/"
        },
        "id": "w4ZVY7k6hxFV",
        "outputId": "62c05d03-2a64-43a9-adb0-84528c670cf4"
      },
      "execution_count": null,
      "outputs": [
        {
          "output_type": "stream",
          "name": "stdout",
          "text": [
            "Cantidad\tCalidad\n",
            "5 muestras\tAlta\n",
            "3 muestras\tBaja\n"
          ]
        }
      ]
    },
    {
      "cell_type": "code",
      "source": [
        "print(\"Ruta del archivo: C:\\\\archivos\\\\documento.csv\")"
      ],
      "metadata": {
        "colab": {
          "base_uri": "https://localhost:8080/"
        },
        "id": "eEQ_Nq5gh6vk",
        "outputId": "bf0b19e3-29fe-4d6e-e69c-6407890f27ac"
      },
      "execution_count": null,
      "outputs": [
        {
          "output_type": "stream",
          "name": "stdout",
          "text": [
            "Ruta del archivo: C:\\archivos\\documento.csv\n"
          ]
        }
      ]
    },
    {
      "cell_type": "code",
      "source": [
        "print(\"Una vez oí: \\\"Los frutos del conocimiento son los más dulces y duraderos de todos.\\\"\")"
      ],
      "metadata": {
        "colab": {
          "base_uri": "https://localhost:8080/"
        },
        "id": "a4Gcrnj2iFUl",
        "outputId": "7697e0e6-f1fa-4997-f64e-f6f1508951aa"
      },
      "execution_count": null,
      "outputs": [
        {
          "output_type": "stream",
          "name": "stdout",
          "text": [
            "Una vez oí: \"Los frutos del conocimiento son los más dulces y duraderos de todos.\"\n"
          ]
        }
      ]
    },
    {
      "cell_type": "code",
      "source": [
        "print('Mi profesora una vez dijo: \\'Estudiar es la clave del éxito.\\'')"
      ],
      "metadata": {
        "colab": {
          "base_uri": "https://localhost:8080/"
        },
        "id": "rRNwuwZdiMWN",
        "outputId": "30aa3356-2b90-4bd9-b5e0-2bd10503c3c9"
      },
      "execution_count": null,
      "outputs": [
        {
          "output_type": "stream",
          "name": "stdout",
          "text": [
            "Mi profesora una vez dijo: 'Estudiar es la clave del éxito.'\n"
          ]
        }
      ]
    },
    {
      "cell_type": "markdown",
      "source": [
        "# **DESAFIO**"
      ],
      "metadata": {
        "id": "RSwoUFopi1p8"
      }
    },
    {
      "cell_type": "code",
      "source": [
        "# 1 - Crea un programa que solicite al usuario que escriba su nombre y luego imprima \"Hola, [nombre].\"\n",
        "nombre = input('Ingrese su nombre: ')\n",
        "print('\\\"Hola, {}.\\\"'.format(nombre))\n"
      ],
      "metadata": {
        "id": "kgm05aSVjCwM",
        "outputId": "c31cf95a-0769-4c96-a8cc-61548731834f",
        "colab": {
          "base_uri": "https://localhost:8080/"
        }
      },
      "execution_count": null,
      "outputs": [
        {
          "output_type": "stream",
          "name": "stdout",
          "text": [
            "Ingrese su nombre: Florencia\n",
            "\"Hola, Florencia.\"\n"
          ]
        }
      ]
    },
    {
      "cell_type": "code",
      "source": [
        "# 2 - Crea un programa que solicite al usuario que escriba su nombre y edad, y luego imprima \"Hola, [nombre], tienes [edad] años.\"\n",
        "nombre = input('Ingrese su nombre: ')\n",
        "edad = input('Ingrese su edad: ')\n",
        "print('\\\"Hola, {}, tienes {} años.\\\"'.format(nombre, edad))"
      ],
      "metadata": {
        "id": "apQKr40JkIa9",
        "outputId": "2cff102a-3bf1-4f1d-fbaf-30e00b3a227a",
        "colab": {
          "base_uri": "https://localhost:8080/"
        }
      },
      "execution_count": null,
      "outputs": [
        {
          "output_type": "stream",
          "name": "stdout",
          "text": [
            "Ingrese su nombre: Raquel\n",
            "Ingrese su edad: 29\n",
            "\"Hola, Raquel, tienes 29 años.\"\n"
          ]
        }
      ]
    },
    {
      "cell_type": "code",
      "source": [
        "# 3 - Crea un programa que solicite al usuario que escriba su nombre, edad y altura en metros, y luego imprima \"Hola, [nombre], tienes [edad] años y mides [altura] metros.\"\n",
        "nombre = input('Ingrese su nombre: ')\n",
        "edad = input('Ingrese su edad: ')\n",
        "altura = input('Ingrese su altura en metros: ')\n",
        "print('\\\"Hola, {}, tienes {} años y mides {} metros.\\\"'.format(nombre, edad, altura))\n"
      ],
      "metadata": {
        "id": "uQb_O-uJk4wS",
        "outputId": "066df1d6-40c8-4329-dfd4-3debe2fb22e3",
        "colab": {
          "base_uri": "https://localhost:8080/"
        }
      },
      "execution_count": null,
      "outputs": [
        {
          "output_type": "stream",
          "name": "stdout",
          "text": [
            "Ingrese su nombre: Daniel\n",
            "Ingrese su edad: 30\n",
            "Ingrese su altura en metros: 1,81\n",
            "\"Hola, Daniel, tienes 30 años y mides 1,81 metros.\"\n"
          ]
        }
      ]
    },
    {
      "cell_type": "code",
      "source": [
        "# 4 - Crea un programa que solicite dos valores numéricos al usuario y luego imprima la suma de ambos valores.\n",
        "numero1 = int(input('Ingrese el primer valor: '))\n",
        "numero2 = int(input('Ingrese el segundo valor: '))\n",
        "print('La suma de los valores es: {}'.format(numero1 + numero2))"
      ],
      "metadata": {
        "id": "-q304Q6olNxW",
        "outputId": "dfccf1d4-c5c2-4f7b-ba5c-8537323e868d",
        "colab": {
          "base_uri": "https://localhost:8080/"
        }
      },
      "execution_count": null,
      "outputs": [
        {
          "output_type": "stream",
          "name": "stdout",
          "text": [
            "Ingrese el primer valor: 2\n",
            "Ingrese el segundo valor: 4\n",
            "La suma de los valores es: 6\n"
          ]
        }
      ]
    },
    {
      "cell_type": "code",
      "source": [
        "# 5 - Crea un programa que solicite tres valores numéricos al usuario y luego imprima la suma de los tres valores.\n",
        "numero1 = int(input('Ingrese el primer valor: '))\n",
        "numero2 = int(input('Ingrese el segundo valor: '))\n",
        "numero3 = int(input('Ingrese el tercer valor: '))\n",
        "print('La suma de los valores es: {}'.format(numero1 + numero2 + numero3))"
      ],
      "metadata": {
        "id": "BEqjCmnmlkOC",
        "outputId": "24b1f711-5f8d-4507-c97d-5912b83c0543",
        "colab": {
          "base_uri": "https://localhost:8080/"
        }
      },
      "execution_count": null,
      "outputs": [
        {
          "output_type": "stream",
          "name": "stdout",
          "text": [
            "Ingrese el primer valor: 3\n",
            "Ingrese el segundo valor: 4\n",
            "Ingrese el tercer valor: 5\n",
            "La suma de los valores es: 12\n"
          ]
        }
      ]
    },
    {
      "cell_type": "code",
      "source": [
        "# 6 - Crea un programa que solicite dos valores numéricos al usuario y luego imprima la resta del primero menos el segundo valor.\n",
        "numero1 = int(input('Ingrese el primer valor: '))\n",
        "numero2 = int(input('Ingrese el segundo valor: '))\n",
        "print('La resta de los valores es: {}'.format(numero1 - numero2))"
      ],
      "metadata": {
        "id": "ndTG90i1lrwy",
        "outputId": "85163cfb-111a-4f74-8dfb-45dbf0fb6d29",
        "colab": {
          "base_uri": "https://localhost:8080/"
        }
      },
      "execution_count": null,
      "outputs": [
        {
          "output_type": "stream",
          "name": "stdout",
          "text": [
            "Ingrese el primer valor: 9\n",
            "Ingrese el segundo valor: 6\n",
            "La resta de los valores es: 3\n"
          ]
        }
      ]
    },
    {
      "cell_type": "code",
      "source": [
        "# 7 - Crea un programa que solicite dos valores numéricos al usuario y luego imprima la multiplicación de los dos valores.\n",
        "numero1 = int(input('Ingrese el primer valor: '))\n",
        "numero2 = int(input('Ingrese el segundo valor: '))\n",
        "print('La multiplicación de los valores es: {}'.format(numero1 * numero2))"
      ],
      "metadata": {
        "id": "cahWLvFgl_2m",
        "outputId": "5550b8e5-16c9-4f20-ede1-a3b191ea4471",
        "colab": {
          "base_uri": "https://localhost:8080/"
        }
      },
      "execution_count": null,
      "outputs": [
        {
          "output_type": "stream",
          "name": "stdout",
          "text": [
            "Ingrese el primer valor: 7\n",
            "Ingrese el segundo valor: 4\n",
            "La multiplicación de los valores es: 28\n"
          ]
        }
      ]
    },
    {
      "cell_type": "code",
      "source": [
        "# 8 - Crea un programa que solicite dos valores numéricos, un numerador y un denominador, y realice la división entre los dos valores. Asegúrate de que el valor del denominador no sea igual a 0.\n",
        "numero1 = int(input('Ingrese el numerador: '))\n",
        "numero2 = int(input('Ingrese el denominador: '))\n",
        "print('La división de los valores es: {}'.format(numero1 / numero2))\n"
      ],
      "metadata": {
        "id": "Gnw6ZZptmL3V",
        "outputId": "e5b74dc5-1997-494c-dfc9-e287d34e7c2d",
        "colab": {
          "base_uri": "https://localhost:8080/"
        }
      },
      "execution_count": null,
      "outputs": [
        {
          "output_type": "stream",
          "name": "stdout",
          "text": [
            "Ingrese el numerador: 8\n",
            "Ingrese el denominador: 2\n",
            "La división de los valores es: 4.0\n"
          ]
        }
      ]
    },
    {
      "cell_type": "code",
      "source": [
        "# 9 - Crea un programa que solicite dos valores numéricos, un operador y una potencia, y realice la exponenciación entre estos dos valores.\n",
        "numero1 = int(input('Ingrese el primer valor: '))\n",
        "numero2 = int(input('Ingrese el segundo valor: '))\n",
        "print('La exponenciación de los valores es: {}'.format(numero1 ** numero2))"
      ],
      "metadata": {
        "id": "wyfK_yiCmbKt",
        "outputId": "5e402c01-99ed-49ad-cd48-8e78c5038b3b",
        "colab": {
          "base_uri": "https://localhost:8080/"
        }
      },
      "execution_count": null,
      "outputs": [
        {
          "output_type": "stream",
          "name": "stdout",
          "text": [
            "Ingrese el primer valor: 2\n",
            "Ingrese el segundo valor: 2\n",
            "La exponenciación de los valores es: 4\n"
          ]
        }
      ]
    },
    {
      "cell_type": "code",
      "source": [
        "# 10 - Crea un programa que solicite dos valores numéricos, un numerador y un denominador, y realice la división entera entre los dos valores. Asegúrate de que el valor del denominador no sea igual a 0.\n",
        "numero1 = int(input('Ingrese el numerador: '))\n",
        "numero2 = int(input('Ingrese el denominador: '))\n",
        "print('La división entera de los valores es: {}'.format(numero1 // numero2))"
      ],
      "metadata": {
        "id": "jxAFIOawmoBq",
        "outputId": "da436f6c-2602-43b1-8b18-9843d8db81e6",
        "colab": {
          "base_uri": "https://localhost:8080/"
        }
      },
      "execution_count": null,
      "outputs": [
        {
          "output_type": "stream",
          "name": "stdout",
          "text": [
            "Ingrese el numerador: 10\n",
            "Ingrese el denominador: 2\n",
            "La división entera de los valores es: 5\n"
          ]
        }
      ]
    },
    {
      "cell_type": "code",
      "source": [
        "# 11 - Crea un programa que solicite dos valores numéricos, un numerador y un denominador, y devuelva el resto de la división entre los dos valores. Asegúrate de que el valor del denominador no sea igual a 0.\n",
        "numero1 = int(input('Ingrese el numerador: '))\n",
        "numero2 = int(input('Ingrese el denominador: '))\n",
        "print('El resto de la división de los valores es: {}'.format(numero1 % numero2))"
      ],
      "metadata": {
        "id": "9FOGkOh3mUlN",
        "outputId": "6dae5844-1a87-4c3c-debf-e248a66f3ff7",
        "colab": {
          "base_uri": "https://localhost:8080/"
        }
      },
      "execution_count": null,
      "outputs": [
        {
          "output_type": "stream",
          "name": "stdout",
          "text": [
            "Ingrese el numerador: 65\n",
            "Ingrese el denominador: 12\n",
            "El resto de la división de los valores es: 5\n"
          ]
        }
      ]
    },
    {
      "cell_type": "code",
      "source": [
        "# 12 - Crea un código que solicite las 3 notas de un estudiante e imprima el promedio de las notas.\n",
        "nota1 = float(input('Ingrese la primera nota: '))\n",
        "nota2 = float(input('Ingrese la segunda nota: '))\n",
        "nota3 = float(input('Ingrese la tercera nota: '))\n",
        "promedio = (nota1 + nota2 + nota3) / 3\n",
        "print('El promedio de las notas es: %.2f'%(promedio))"
      ],
      "metadata": {
        "id": "TCSl3jkbnDfE",
        "outputId": "a012b1f4-a8c7-4fa6-b19b-481762e4a178",
        "colab": {
          "base_uri": "https://localhost:8080/"
        }
      },
      "execution_count": null,
      "outputs": [
        {
          "output_type": "stream",
          "name": "stdout",
          "text": [
            "Ingrese la primera nota: 5.6\n",
            "Ingrese la segunda nota: 6.3\n",
            "Ingrese la tercera nota: 6.8\n",
            "El promedio de las notas es: 6.23\n"
          ]
        }
      ]
    },
    {
      "cell_type": "code",
      "source": [
        "# 13 - Crea un código que calcule e imprima el promedio ponderado de los números 5, 12, 20 y 15 con pesos respectivamente iguales a 1, 2, 3 y 4.\n",
        "promedio = (5 * 1 + 12 * 2 + 20 * 3 + 15 * 4) / (1 + 2 + 3 + 4)\n",
        "print('El promedio ponderado de los números es: %.2f'%(promedio))"
      ],
      "metadata": {
        "id": "R0UVC2ZBpYmV",
        "outputId": "4a73cdba-bfe1-4f0b-a6e7-9ee98313c2bb",
        "colab": {
          "base_uri": "https://localhost:8080/"
        }
      },
      "execution_count": null,
      "outputs": [
        {
          "output_type": "stream",
          "name": "stdout",
          "text": [
            "El promedio ponderado de los números es: 14.90\n"
          ]
        }
      ]
    },
    {
      "cell_type": "markdown",
      "source": [
        "# EDITANDO TEXTO"
      ],
      "metadata": {
        "id": "gHTZOV6gGDQ7"
      }
    },
    {
      "cell_type": "code",
      "source": [
        "#14 - Crea una variable llamada \"frase\" y asígnale una cadena de texto de tu elección. Luego, imprime la frase en pantalla.\n",
        "frase = 'El éxito es la suma de pequeños esfuerzos repetidos día tras día.'\n",
        "print(frase)"
      ],
      "metadata": {
        "colab": {
          "base_uri": "https://localhost:8080/"
        },
        "id": "WDSUKaPsGHgq",
        "outputId": "8dc6df68-aa49-4769-891b-8dd18380e709"
      },
      "execution_count": 1,
      "outputs": [
        {
          "output_type": "stream",
          "name": "stdout",
          "text": [
            "El éxito es la suma de pequeños esfuerzos repetidos día tras día.\n"
          ]
        }
      ]
    },
    {
      "cell_type": "code",
      "source": [
        "# 15 - Crea un código que solicite una frase y luego imprima la frase en pantalla.\n",
        "frase2 = input('Ingrese una frase: ')\n",
        "print(frase2)"
      ],
      "metadata": {
        "colab": {
          "base_uri": "https://localhost:8080/"
        },
        "id": "sDw7o82XGXLP",
        "outputId": "e96eb13c-635f-4f44-c934-8ad2b662d43f"
      },
      "execution_count": 2,
      "outputs": [
        {
          "output_type": "stream",
          "name": "stdout",
          "text": [
            "Ingrese una frase: Hola Mundo\n",
            "Hola Mundo\n"
          ]
        }
      ]
    },
    {
      "cell_type": "code",
      "source": [
        "# 16 - Crea un código que solicite una frase al usuario y luego imprima la misma frase ingresada pero en mayúsculas.\n",
        "frase3 = input('Ingrese una frase: ')\n",
        "print(frase3.upper())"
      ],
      "metadata": {
        "colab": {
          "base_uri": "https://localhost:8080/"
        },
        "id": "_LyihwE5GqRr",
        "outputId": "f80caa1a-72c5-4845-ac6d-96c82528317a"
      },
      "execution_count": 3,
      "outputs": [
        {
          "output_type": "stream",
          "name": "stdout",
          "text": [
            "Ingrese una frase: hola soy gokú\n",
            "HOLA SOY GOKÚ\n"
          ]
        }
      ]
    },
    {
      "cell_type": "code",
      "source": [
        "# 17 - Crea un código que solicite una frase al usuario y luego imprima la misma frase ingresada pero en minúsculas.\n",
        "frase4 = input('Ingrese una frase: ')\n",
        "print(frase4.lower())"
      ],
      "metadata": {
        "colab": {
          "base_uri": "https://localhost:8080/"
        },
        "id": "pNlSqjF5G1PJ",
        "outputId": "4fa6e005-4b3d-48ca-e459-e1f43998eb43"
      },
      "execution_count": 4,
      "outputs": [
        {
          "output_type": "stream",
          "name": "stdout",
          "text": [
            "Ingrese una frase: HOLA MUNDO\n",
            "hola mundo\n"
          ]
        }
      ]
    },
    {
      "cell_type": "code",
      "source": [
        "# 18 - Crea una variable llamada \"frase\" y asígnale una cadena de texto de tu elección. Luego, imprime la frase sin espacios en blanco al principio y al final.\n",
        "frase5 = '     El éxito es la suma de pequeños esfuerzos repetidos día tras día.     '\n",
        "print(frase5.strip())"
      ],
      "metadata": {
        "colab": {
          "base_uri": "https://localhost:8080/"
        },
        "id": "tolBmdjOHGTq",
        "outputId": "d2cb653f-be69-4e95-bfbb-3a22a2dd5e42"
      },
      "execution_count": 5,
      "outputs": [
        {
          "output_type": "stream",
          "name": "stdout",
          "text": [
            "El éxito es la suma de pequeños esfuerzos repetidos día tras día.\n"
          ]
        }
      ]
    },
    {
      "cell_type": "code",
      "source": [
        "# 19 - Crea un código que solicite una frase al usuario y luego imprima la misma frase sin espacios en blanco al principio y al final.\n",
        "frase6 = input('Ingrese una frase: ')\n",
        "print(frase6.strip())"
      ],
      "metadata": {
        "colab": {
          "base_uri": "https://localhost:8080/"
        },
        "id": "FPlChhKRHXql",
        "outputId": "5df4f1dd-c4ff-4f1a-c8b3-f2955a9659a2"
      },
      "execution_count": 7,
      "outputs": [
        {
          "output_type": "stream",
          "name": "stdout",
          "text": [
            "Ingrese una frase:            hola mundo          \n",
            "hola mundo\n"
          ]
        }
      ]
    },
    {
      "cell_type": "code",
      "source": [
        "# 20 - Crea un código que solicite una frase al usuario y luego imprima la misma frase sin espacios en blanco al principio y al final, además de convertirla a minúsculas.\n",
        "frase7 = input('Ingrese una frase: ')\n",
        "print(frase7.strip().lower())"
      ],
      "metadata": {
        "colab": {
          "base_uri": "https://localhost:8080/"
        },
        "id": "yrcR8pgYHnLa",
        "outputId": "dcf0275d-c985-4505-b7ea-76153d600f44"
      },
      "execution_count": 8,
      "outputs": [
        {
          "output_type": "stream",
          "name": "stdout",
          "text": [
            "Ingrese una frase:      HOLA SOY TU PADRE   \n",
            "hola soy tu padre\n"
          ]
        }
      ]
    },
    {
      "cell_type": "code",
      "source": [
        "# 21 - Crea un código que solicite una frase al usuario y luego imprima la misma frase con todas las vocales \"e\" reemplazadas por la letra \"f\".\n",
        "frase8 = input('Ingrese una frase: ')\n",
        "print(frase8.replace('e','f'))"
      ],
      "metadata": {
        "colab": {
          "base_uri": "https://localhost:8080/"
        },
        "id": "fmParaVMIWIB",
        "outputId": "a86972fd-c2e8-430b-98e6-d2083b763e5f"
      },
      "execution_count": 9,
      "outputs": [
        {
          "output_type": "stream",
          "name": "stdout",
          "text": [
            "Ingrese una frase: Perro escondido debajo de la mesa\n",
            "Pfrro fscondido dfbajo df la mfsa\n"
          ]
        }
      ]
    },
    {
      "cell_type": "code",
      "source": [
        "# 22 - Crea un código que solicite una frase al usuario y luego imprima la misma frase con todas las vocales \"a\" reemplazadas por el carácter \"@\".\n",
        "frase9 = input('Ingrese una frase: ')\n",
        "print(frase9.replace('a','@'))"
      ],
      "metadata": {
        "colab": {
          "base_uri": "https://localhost:8080/"
        },
        "id": "fM9g-9PiIsY5",
        "outputId": "5d7323ac-3556-40a2-8f8c-c7606e0fd4a7"
      },
      "execution_count": 10,
      "outputs": [
        {
          "output_type": "stream",
          "name": "stdout",
          "text": [
            "Ingrese una frase: Daniel Gallardo\n",
            "D@niel G@ll@rdo\n"
          ]
        }
      ]
    },
    {
      "cell_type": "code",
      "source": [
        "# 23 - Crea un código que solicite una frase al usuario y luego imprima la misma frase con todas las consonantes \"s\" reemplazadas por el carácter \"$\".\n",
        "frase10 = input('Ingrese una frase: ')\n",
        "print(frase10.replace('s','$'))"
      ],
      "metadata": {
        "colab": {
          "base_uri": "https://localhost:8080/"
        },
        "id": "lRiwkjOaI2si",
        "outputId": "3e4f03b3-cde3-425e-eb0a-12407629c479"
      },
      "execution_count": 11,
      "outputs": [
        {
          "output_type": "stream",
          "name": "stdout",
          "text": [
            "Ingrese una frase: Soy su señor silencioso.\n",
            "Soy $u $eñor $ilencio$o.\n"
          ]
        }
      ]
    },
    {
      "cell_type": "markdown",
      "source": [
        "# Fin clase 2 Manipulando datos en Python."
      ],
      "metadata": {
        "id": "cDOnuXyVJgue"
      }
    },
    {
      "cell_type": "markdown",
      "source": [
        "# INICIO AULA 3"
      ],
      "metadata": {
        "id": "ZRnXDO80K1lg"
      }
    },
    {
      "cell_type": "markdown",
      "source": [
        "# Estructuras condicionales"
      ],
      "metadata": {
        "id": "NwRaiHHHhhyl"
      }
    },
    {
      "cell_type": "code",
      "source": [
        "# Nota de aprobación del estudiante entre 7 y 10\n",
        "# Nota de reprobación del estudiante es menor a 7\n",
        "\n",
        "\"\"\"\n",
        "Si la nota del estudiante es mayor o igual a 7, el estudiante aprueba.\n",
        "Si la nota del estudiante es menor a 7, el estudiante reprueba.\n",
        "\n",
        "\"\"\""
      ],
      "metadata": {
        "id": "pa4gLncu-mvU"
      },
      "execution_count": null,
      "outputs": []
    },
    {
      "cell_type": "markdown",
      "source": [
        "## `IF` y `ELSE`\n",
        "\n",
        "Los comandos `if` y `else` son dos estructuras condicionales. El comando `if` ejecutará el bloque de comandos en caso de que la condición citada sea  **verdadera**. El comando `else` ejecutará el bloque de comandos en el caso de que la condicional de `if` sea **falsa**."
      ],
      "metadata": {
        "id": "qXZqg9aYEhAh"
      }
    },
    {
      "cell_type": "markdown",
      "source": [
        "El comando `if` es una palabra clave en Python que significa \"si\". Este se emplea para conformar la estructura condicional, que te permite verificar si una determinada condición es verdadera o falsa e, inmediatamente después, ejecute un bloque de código específico dependiendo del resultado de la verificación. La sintaxis para usar el comando `if` es:\n",
        "\n",
        "\n",
        "\n",
        "```\n",
        "if condicion:\n",
        "    # Realiza algo\n",
        "```\n",
        "\n"
      ],
      "metadata": {
        "id": "EIhlqHXd2Gil"
      }
    },
    {
      "cell_type": "code",
      "source": [
        "if 2 < 7:\n",
        "  print('La condición es verdadera')"
      ],
      "metadata": {
        "id": "S2S6XAFz-czM",
        "colab": {
          "base_uri": "https://localhost:8080/"
        },
        "outputId": "664a1db1-bd69-4d66-e671-a97e24876116"
      },
      "execution_count": 12,
      "outputs": [
        {
          "output_type": "stream",
          "name": "stdout",
          "text": [
            "La condición es verdadera\n"
          ]
        }
      ]
    },
    {
      "cell_type": "code",
      "source": [
        "if 2 > 7:\n",
        "  print('La condición es verdadera')\n",
        "print('Fin de la consulta')"
      ],
      "metadata": {
        "id": "YHkwMMyY-c1r",
        "colab": {
          "base_uri": "https://localhost:8080/"
        },
        "outputId": "ef1f0ca9-3198-4ddc-9be4-82e377942929"
      },
      "execution_count": 13,
      "outputs": [
        {
          "output_type": "stream",
          "name": "stdout",
          "text": [
            "Fin de la consulta\n"
          ]
        }
      ]
    },
    {
      "cell_type": "markdown",
      "source": [
        "Ya el comando `else` en Python se usa en junción con la palabra clave `if` para formar una estructura condicional. la sintaxis para usar el `else` es:\n",
        "\n",
        "```\n",
        "if condicion:\n",
        "  # codigo en caso de que sea verdad\n",
        "else:\n",
        "  # codigo en caso de que sea falso\n",
        "```\n",
        "\n",
        "el comando `else` se ejecuta cuando la condición verificada por el `if` es evaluada como `False`."
      ],
      "metadata": {
        "id": "27RW2v_sIKct"
      }
    },
    {
      "cell_type": "code",
      "source": [
        "if 2 > 7:\n",
        "  print('La condición es verdadera')\n",
        "else:\n",
        "  print('La condición es falsa')\n",
        "print('Fin de la consulta')"
      ],
      "metadata": {
        "id": "ZTfNJd_f-aOq",
        "colab": {
          "base_uri": "https://localhost:8080/"
        },
        "outputId": "4180bb40-9755-459b-8000-5e01640b9e08"
      },
      "execution_count": 15,
      "outputs": [
        {
          "output_type": "stream",
          "name": "stdout",
          "text": [
            "La condición es falsa\n",
            "Fin de la consulta\n"
          ]
        }
      ]
    },
    {
      "cell_type": "markdown",
      "source": [
        "# Operadores lógicos"
      ],
      "metadata": {
        "id": "1HizWJRaOpFF"
      }
    },
    {
      "cell_type": "code",
      "source": [
        "# Mayor que (>)\n",
        "edad_maria = int(input('Ingrese la edad de María: '))\n",
        "edad_beatriz = int(input('Ingrese la edad de Beatriz: '))\n",
        "\n",
        "if edad_maria > edad_beatriz:\n",
        "  print('María es mayor que Beatriz.')"
      ],
      "metadata": {
        "id": "LPOb5MkV-btq",
        "colab": {
          "base_uri": "https://localhost:8080/"
        },
        "outputId": "740f676a-acce-4dd3-b86a-ef3c998d26e0"
      },
      "execution_count": 16,
      "outputs": [
        {
          "output_type": "stream",
          "name": "stdout",
          "text": [
            "Ingrese la edad de María: 5\n",
            "Ingrese la edad de Beatriz: 2\n",
            "María es mayor que Beatriz.\n"
          ]
        }
      ]
    },
    {
      "cell_type": "code",
      "source": [
        "# Menor que (<)\n",
        "edad_maria = int(input('Ingrese la edad de María: '))\n",
        "edad_beatriz = int(input('Ingrese la edad de Beatriz: '))\n",
        "\n",
        "if edad_maria < edad_beatriz:\n",
        "  print('María es menor que Beatriz.')"
      ],
      "metadata": {
        "colab": {
          "base_uri": "https://localhost:8080/"
        },
        "id": "hTSlA6V1O-PD",
        "outputId": "b3e8a86b-63ea-4313-84a8-692c659a521a"
      },
      "execution_count": 17,
      "outputs": [
        {
          "output_type": "stream",
          "name": "stdout",
          "text": [
            "Ingrese la edad de María: 5\n",
            "Ingrese la edad de Beatriz: 8\n",
            "María es menor que Beatriz.\n"
          ]
        }
      ]
    },
    {
      "cell_type": "code",
      "source": [
        "# Mayor o igual a (>=)\n",
        "empleados_empresa_1 = int(input('Ingrese la cantidad de empleados de la empresa 1: '))\n",
        "empleados_empresa_2 = int(input('Ingrese la cantidad de empleados de la empresa 2: '))\n",
        "\n",
        "if empleados_empresa_1 >= empleados_empresa_2:\n",
        "  print('La empresa 1 tiene una cantidad de empleados mayor o igual a la empresa 2.')"
      ],
      "metadata": {
        "colab": {
          "base_uri": "https://localhost:8080/"
        },
        "id": "yvkcFwhsPHwX",
        "outputId": "d06e430b-c04a-4636-b2ea-331437d8b817"
      },
      "execution_count": 18,
      "outputs": [
        {
          "output_type": "stream",
          "name": "stdout",
          "text": [
            "Ingrese la cantidad de empleados de la empresa 1: 15000\n",
            "Ingrese la cantidad de empleados de la empresa 2: 5000\n",
            "La empresa 1 tiene una cantidad de empleados mayor o igual a la empresa 2.\n"
          ]
        }
      ]
    },
    {
      "cell_type": "code",
      "source": [
        "# Menor o igual a (<=)\n",
        "empleados_empresa_1 = int(input('Ingrese la cantidad de empleados de la empresa 1: '))\n",
        "empleados_empresa_2 = int(input('Ingrese la cantidad de empleados de la empresa 2: '))\n",
        "\n",
        "if empleados_empresa_1 <= empleados_empresa_2:\n",
        "  print('La empresa 1 tiene una cantidad de empleados menor o igual a la empresa 2.')"
      ],
      "metadata": {
        "colab": {
          "base_uri": "https://localhost:8080/"
        },
        "id": "Yw_Zxm4OPYAe",
        "outputId": "8dae4878-eb11-4870-951e-982298d75606"
      },
      "execution_count": 19,
      "outputs": [
        {
          "output_type": "stream",
          "name": "stdout",
          "text": [
            "Ingrese la cantidad de empleados de la empresa 1: 1400\n",
            "Ingrese la cantidad de empleados de la empresa 2: 7400\n",
            "La empresa 1 tiene una cantidad de empleados menor o igual a la empresa 2.\n"
          ]
        }
      ]
    },
    {
      "cell_type": "code",
      "source": [
        "# Igual a (==)\n",
        "libro_1 = input('Ingrese el título del 1° libro: ')\n",
        "libro_2 = input('Ingrese el título del 2° libro: ')\n",
        "\n",
        "if libro_1 == libro_2:\n",
        "  print('Los libros tienen el mismo título.')"
      ],
      "metadata": {
        "colab": {
          "base_uri": "https://localhost:8080/"
        },
        "id": "w_FH4bfdPhqB",
        "outputId": "2daf7c68-e54b-46fd-e9af-d9b276f8dba5"
      },
      "execution_count": 20,
      "outputs": [
        {
          "output_type": "stream",
          "name": "stdout",
          "text": [
            "Ingrese el título del 1° libro: Principito\n",
            "Ingrese el título del 2° libro: Principito\n",
            "Los libros tienen el mismo título.\n"
          ]
        }
      ]
    },
    {
      "cell_type": "code",
      "source": [
        "# Diferente de (!=)\n",
        "libro_1 = input('Ingrese el título del 1° libro: ')\n",
        "libro_2 = input('Ingrese el título del 2° libro: ')\n",
        "\n",
        "if libro_1 != libro_2:\n",
        "  print('Los libros tienen títulos diferentes.')"
      ],
      "metadata": {
        "colab": {
          "base_uri": "https://localhost:8080/"
        },
        "id": "n2cB8bF9PxmL",
        "outputId": "e59d566b-8c5b-46c4-a82c-b361200a616f"
      },
      "execution_count": 21,
      "outputs": [
        {
          "output_type": "stream",
          "name": "stdout",
          "text": [
            "Ingrese el título del 1° libro: Principito\n",
            "Ingrese el título del 2° libro: Juego de Tronos\n",
            "Los libros tienen títulos diferentes.\n"
          ]
        }
      ]
    },
    {
      "cell_type": "markdown",
      "source": [
        "---\n",
        "**Situación:**\n",
        "\n",
        "Recibiremos el promedio de la nota de los estudiantes y necesitamos de un algoritmo que ejecute el análisis y determine si el estudiante fue **Aprobado** o **Reprobado**, mostrando un mensaje del resultado. Para ser aprobado, el promedio necesita ser igual o superior a 7.0."
      ],
      "metadata": {
        "id": "BqORg85XX-Nl"
      }
    },
    {
      "cell_type": "code",
      "source": [
        "nota_promedio = float(input('Ingrese promedio del  estudiante: '))\n",
        "\n",
        "if nota_promedio >= 7.0:\n",
        "  print('El estudiante fue aprobado.')\n",
        "else:\n",
        "  print('El estudiante fue reprobado.')"
      ],
      "metadata": {
        "id": "UukCN4AQ-YYW",
        "colab": {
          "base_uri": "https://localhost:8080/"
        },
        "outputId": "3fe09d34-e779-4b42-86bb-34658dc35dc5"
      },
      "execution_count": 22,
      "outputs": [
        {
          "output_type": "stream",
          "name": "stdout",
          "text": [
            "Ingrese promedio del  estudiante: 7.4\n",
            "El estudiante fue aprobado.\n"
          ]
        }
      ]
    },
    {
      "cell_type": "markdown",
      "source": [
        "Ahora, nuestra institución educativa estableció que las personas que tengan el promedio entre 5.0 y 7.0 pueden participar del curso de **Recuperación** durante las vacaciones para lograr aprobar.\n",
        "\n",
        "Entonces podemos apoyarnos en un conjunto de `if`s para poder estructurar esta nueva condición."
      ],
      "metadata": {
        "id": "bD9O17HB6LUo"
      }
    },
    {
      "cell_type": "code",
      "source": [
        "nota_promedio = float(input('Ingrese promedio del  estudiante: '))\n",
        "\n",
        "if nota_promedio >= 7.0:\n",
        "  print('El estudiante fue aprobado.')\n",
        "if 7.0 > nota_promedio >= 5.0:\n",
        "  print('El estudiante puede participar de la recuperación.')\n",
        "if nota_promedio < 5.0:\n",
        "  print('El estudiante fue reprobado.')"
      ],
      "metadata": {
        "id": "G9cJ5O9--W52",
        "colab": {
          "base_uri": "https://localhost:8080/"
        },
        "outputId": "7fb6a8a3-85aa-4493-edb3-4ee8ceabe277"
      },
      "execution_count": 23,
      "outputs": [
        {
          "output_type": "stream",
          "name": "stdout",
          "text": [
            "Ingrese promedio del  estudiante: 6.1\n",
            "El estudiante puede participar de la recuperación.\n"
          ]
        }
      ]
    },
    {
      "cell_type": "markdown",
      "source": [
        "Observa que en casos con 3 situaciones como este necesitamos definir bien nuestras condiciones. Pues, si realizamos una condición con `else` al final, este irá a considerar solamente la condición `if` inmediatamente anterior para generar la salida en caso de que el resultado de su operación lógica sea **falso** dando como resultado, dos o más ejecuciones.\n",
        "\n",
        "Por ejemplo:"
      ],
      "metadata": {
        "id": "D5e2mByjvycO"
      }
    },
    {
      "cell_type": "code",
      "source": [
        "nota_promedio = float(input('Ingrese promedio del  estudiante: '))\n",
        "\n",
        "if nota_promedio >= 7.0:\n",
        "  print('El estudiante fue aprobado.')\n",
        "if 7.0 > nota_promedio >= 5.0:\n",
        "  print('El estudiante puede participar de la recuperación.')\n",
        "else:\n",
        "  print('El estudiante fue reprobado.')"
      ],
      "metadata": {
        "id": "C21JmOuK-VU8",
        "colab": {
          "base_uri": "https://localhost:8080/"
        },
        "outputId": "12524a8c-6f31-4618-f7b3-1589f4d809aa"
      },
      "execution_count": 24,
      "outputs": [
        {
          "output_type": "stream",
          "name": "stdout",
          "text": [
            "Ingrese promedio del  estudiante: 8\n",
            "El estudiante fue aprobado.\n",
            "El estudiante fue reprobado.\n"
          ]
        }
      ]
    },
    {
      "cell_type": "markdown",
      "source": [
        "## `ELIF`\n",
        "\n",
        "El comando `elif` es una palabra clave en Python que significa \"si no, si\" y lo podemos considerar una *contracción* entre `else` e `if`. Se utiliza en conjunto con la palabra clave `if` para formar una estructura condicional en cadena."
      ],
      "metadata": {
        "id": "04T5g-7h4zWx"
      }
    },
    {
      "cell_type": "markdown",
      "source": [
        "la sintaxis para utilizar el comando `elif` es:\n",
        "\n",
        "```\n",
        "if condicion1:\n",
        "    # Realiza algo\n",
        "elif condicion2:\n",
        "    # Realiza otra cosa\n",
        "elif condicion3:\n",
        "    # Realiza otra cosa\n",
        "else:\n",
        "    # Realiza algo diferente\n",
        "```\n",
        "\n",
        "El comando `elif` permite que puedas verificar varias condiciones en cadena, economizando espacio en tu código. Si la primera condición se evalúa como `False`, el interpretador de Python evaluará la próxima condición con el `elif`. Ello continuará hasta que una condición sea evaluada como `True` o hasta que el `else` sea alcazado. Si ninguna de las condiciones es evaluada como `True`, la ejecución del código del comando `else` será iniciada."
      ],
      "metadata": {
        "id": "rNBHr5mm1Lm6"
      }
    },
    {
      "cell_type": "markdown",
      "source": [
        "Vamos a emplear el mismo caso anterior:"
      ],
      "metadata": {
        "id": "MVoykFbB4bd4"
      }
    },
    {
      "cell_type": "code",
      "source": [
        "nota_promedio = float(input('Ingrese promedio del  estudiante: '))\n",
        "\n",
        "if nota_promedio >= 7.0:\n",
        "  print('El estudiante fue aprobado.')\n",
        "elif 7.0 > nota_promedio >= 5.0:\n",
        "  print('El estudiante puede participar de la recuperación.')\n",
        "else:\n",
        "  print('El estudiante fue reprobado.')"
      ],
      "metadata": {
        "id": "QFamB78s-TW_",
        "colab": {
          "base_uri": "https://localhost:8080/"
        },
        "outputId": "83bf131a-51f1-4c55-9a09-f32d0027fead"
      },
      "execution_count": 26,
      "outputs": [
        {
          "output_type": "stream",
          "name": "stdout",
          "text": [
            "Ingrese promedio del  estudiante: 8\n",
            "El estudiante fue aprobado.\n"
          ]
        }
      ]
    },
    {
      "cell_type": "markdown",
      "source": [
        "## Operadores\n",
        "\n",
        "Durante la construcción de comandos a veces necesitamos de una elaboración mayor de la expresión condicional, necesitando que algunos operadores lógicos se encuentren integrados."
      ],
      "metadata": {
        "id": "Tf1wSOem6iwZ"
      }
    },
    {
      "cell_type": "markdown",
      "source": [
        "### `AND`, `OR`, `NOT`\n",
        "\n",
        "Los operadores lógicos `and`, `or` y `not` son usados para combinar expresiones lógicas en Python. Ellos son usados frecuentemente en conjunto con el comando `if` para crear estructuras condicionales más complejas.\n"
      ],
      "metadata": {
        "id": "GFIZnRWXGPWO"
      }
    },
    {
      "cell_type": "markdown",
      "source": [
        "- `AND` es usado para verificar si dos condiciones son verdaderas. La expresión lógica¹ `x and y` se evalúa como `True` tan solo si **ambas condiciones `x` y `y` son verdaderas**, y como `False` en caso contrario.\n",
        "\n",
        "- `OR` es usado para verificar si al menos una de las condiciones es verdadera. La expresión lógica `x or y` se evalúa como `True` **si al menos una de las condiciones `x` o `y` es verdadera**, y como `False` si ambas condiciones son falsas.\n",
        "\n",
        "- `NOT` es usado para **negar una condición**. La expresión lógica `not x` es evaluada como `True` si la condición x es falsa, y como `False` si la condición x es verdadera.\n",
        "\n",
        "¹ Una expresión lógica es una declaración que puede ser evaluada como verdadera o falsa. Ella se compone por operandos lógicos² y por operadores lógicos³, que son usados ​​para combinar varias expresiones lógicas en una única expresión.\n",
        "\n",
        "² Los operandos lógicos son los elementos que son comparados o evaluados en una expresión lógica. Ellos son generalmente valores verdaderos o falsos, pero también pueden ser expresiones lógicas más complejas. En Python, los operandos lógicos son los valores `True` y `False`.\n",
        "\n",
        "³ Los operadores lógicos son ls símbolos o palabras clave que son usados ​​para combinar varias expresiones lógicas en una única expresión. En Python, los operadores lógicos son `and`, `or` y `not`, bien como las palabras clave `if`, `elif` e `else`."
      ],
      "metadata": {
        "id": "Z_dgAoHXJbzB"
      }
    },
    {
      "cell_type": "markdown",
      "source": [
        "> Operadores lógicos más comunes\n",
        "\n",
        "|a|b|AND|OR|NOT|\n",
        "|-|-|-|-|-|\n",
        "|0|0|0|0|1\n",
        "|0|1|0|1|-\n",
        "|1|0|0|1|-\n",
        "|1|1|1|1|0\n"
      ],
      "metadata": {
        "id": "2E5aUogf-49u"
      }
    },
    {
      "cell_type": "code",
      "source": [
        "v = True\n",
        "f = False"
      ],
      "metadata": {
        "id": "DFKmpvmS-Pa6"
      },
      "execution_count": 27,
      "outputs": []
    },
    {
      "cell_type": "code",
      "source": [
        "if v and f:\n",
        "  print('La condición es verdadera')\n",
        "else:\n",
        "  print('La condición es falsa')"
      ],
      "metadata": {
        "id": "W5BIrpOD-PeI",
        "colab": {
          "base_uri": "https://localhost:8080/"
        },
        "outputId": "9e37189a-78a5-4ae6-c42e-1535f212aba5"
      },
      "execution_count": 29,
      "outputs": [
        {
          "output_type": "stream",
          "name": "stdout",
          "text": [
            "La condición es falsa\n"
          ]
        }
      ]
    },
    {
      "cell_type": "code",
      "source": [
        "if f or f:\n",
        "  print('La condición es verdadera')\n",
        "else:\n",
        "  print('La condición es falsa')"
      ],
      "metadata": {
        "id": "fpDhYxq4-PiM",
        "colab": {
          "base_uri": "https://localhost:8080/"
        },
        "outputId": "55e411de-e996-4902-a634-3cc7f8fb50fb"
      },
      "execution_count": 31,
      "outputs": [
        {
          "output_type": "stream",
          "name": "stdout",
          "text": [
            "La condición es falsa\n"
          ]
        }
      ]
    },
    {
      "cell_type": "code",
      "source": [
        "\n",
        "if not v:\n",
        "  print('La condición es verdadera')\n",
        "else:\n",
        "  print('La condición es falsa')"
      ],
      "metadata": {
        "colab": {
          "base_uri": "https://localhost:8080/"
        },
        "id": "dGMhbOofVHhM",
        "outputId": "b8ded2dd-7142-40f5-c3cc-4ad9f6eb3455"
      },
      "execution_count": 34,
      "outputs": [
        {
          "output_type": "stream",
          "name": "stdout",
          "text": [
            "La condición es falsa\n"
          ]
        }
      ]
    },
    {
      "cell_type": "markdown",
      "source": [
        "### `IN`\n",
        "\n",
        "Es usado para verificar si un elemento está presente en una lista, tupla u otra colección de conjunto. La expresión `x in y` se evalúa como `True` si el elemento `x` esta presente na variávelen la variable de conjunto `y`, y como `False` en caso contrario."
      ],
      "metadata": {
        "id": "w7EXG1dhWtja"
      }
    },
    {
      "cell_type": "markdown",
      "source": [
        "Podemos verificarlo con variables de texto.\n",
        "\n",
        "---\n",
        "\n",
        "**Situación:**\n",
        "\n",
        "En la escuela nos entregaron una lista con nombres de estudiantes que fueron aprobados según el promedio del semestre, pero es necesario verificar si algunos nombres están en esa lista para confirmar que los datos estén correctos.\n",
        "\n",
        "La lista distribuida puede ser observada a continuación:\n",
        "\n",
        "```\n",
        "lista = 'Juan Pérez, María González, Pedro Rodríguez, Ana López, Carlos Martínez,\n",
        "    Laura Sánchez, José García, Elena Fernández, Luis Morales, Carmen Torres,\n",
        "    David Ruiz, Isabel Ramírez, Javier Díaz, Sara Herrera, Miguel Castro,\n",
        "    Patricia Ortega, Francisco Vargas, Marta Jiménez, Manuel Medina, Rosa Molina,\n",
        "    Alejandro Silva, Silvia Ruiz, Andrés Torres, Natalia Soto, Diego Guerrero,\n",
        "    Paula Ríos, Ricardo Navarro, Alicia Cordero, Carlos Vidal, Lorena Gómez'\n",
        "```\n",
        "\n",
        "Los nombres que necesitas verificar son los siguientes:\n",
        "\n",
        "```\n",
        "nombre_1 = 'Miguel Castro'\n",
        "nombre_2 = 'Marcelo Noguera'\n",
        "```"
      ],
      "metadata": {
        "id": "enJNp6JenQbq"
      }
    },
    {
      "cell_type": "code",
      "source": [
        "lista = 'Juan Pérez, María González, Pedro Rodríguez, Ana López, Carlos Martínez, Laura Sánchez, José García, Elena Fernández, Luis Morales, Carmen Torres, David Ruiz, Isabel Ramírez, Javier Díaz, Sara Herrera, Miguel Castro, Patricia Ortega, Francisco Vargas, Marta Jiménez, Manuel Medina, Rosa Molina, Alejandro Silva, Silvia Ruiz, Andrés Torres, Natalia Soto, Diego Guerrero, Paula Ríos, Ricardo Navarro, Alicia Cordero, Carlos Vidal, Lorena Gómez'"
      ],
      "metadata": {
        "id": "gPPN9BCT-Mki"
      },
      "execution_count": 35,
      "outputs": []
    },
    {
      "cell_type": "code",
      "source": [
        "nombre_1 = 'Miguel Castro'\n",
        "nombre_2 = 'Marcelo Noguera'"
      ],
      "metadata": {
        "id": "rLRz-N9gWx0O"
      },
      "execution_count": 36,
      "outputs": []
    },
    {
      "cell_type": "code",
      "source": [
        "if nombre_1 in lista:\n",
        "  print('El nombre {} está en la lista APROBADO.'.format(nombre_1))\n",
        "else:\n",
        "  print('El nombre {} no está en la lista, se encuentra REPROBADO.'.format(nombre_1))"
      ],
      "metadata": {
        "id": "GINbG3Fa-Mnb",
        "colab": {
          "base_uri": "https://localhost:8080/"
        },
        "outputId": "55940a68-6d3f-4f6e-b27b-3d398659b82b"
      },
      "execution_count": 37,
      "outputs": [
        {
          "output_type": "stream",
          "name": "stdout",
          "text": [
            "El nombre Miguel Castro está en la lista APROBADO.\n"
          ]
        }
      ]
    },
    {
      "cell_type": "code",
      "source": [
        "if nombre_2 in lista:\n",
        "  print('El nombre {} está en la lista APROBADO.'.format(nombre_1))\n",
        "else:\n",
        "  print('El nombre {} no está en la lista, se encuentra REPROBADO.'.format(nombre_1))"
      ],
      "metadata": {
        "id": "hk-RhNRT-Mp7",
        "colab": {
          "base_uri": "https://localhost:8080/"
        },
        "outputId": "b9775853-ae90-4cc0-b073-45baf857d30a"
      },
      "execution_count": 38,
      "outputs": [
        {
          "output_type": "stream",
          "name": "stdout",
          "text": [
            "El nombre Miguel Castro no está en la lista, se encuentra REPROBADO.\n"
          ]
        }
      ]
    },
    {
      "cell_type": "markdown",
      "source": [
        "# Desafio: ¡Es hora de practicar!\n"
      ],
      "metadata": {
        "id": "T1KtaXAHXa7P"
      }
    },
    {
      "cell_type": "code",
      "source": [
        "# 1 - Escribe un programa que pida a la persona usuaria que proporcione dos números y muestre el número más grande.\n",
        "num1 = int(input('Ingrese el primer número: '))\n",
        "num2 = int(input('Ingrese el segundo número: '))\n",
        "if num1 > num2:\n",
        "  print('El número más grande es: {}'.format(num1))\n",
        "else:\n",
        "  print('El número más grande es: {}'.format(num2))"
      ],
      "metadata": {
        "colab": {
          "base_uri": "https://localhost:8080/"
        },
        "id": "luHiYXALXdMY",
        "outputId": "959f9c0d-0c53-4f8f-be49-69789daa0f5e"
      },
      "execution_count": 40,
      "outputs": [
        {
          "output_type": "stream",
          "name": "stdout",
          "text": [
            "Ingrese el primer número: 8\n",
            "Ingrese el segundo número: 6\n",
            "El número más grande es: 8\n"
          ]
        }
      ]
    },
    {
      "cell_type": "code",
      "source": [
        "# 2 - Escribe un programa que solicite el porcentaje de crecimiento de producción de una empresa e informe si hubo un crecimiento (porcentaje positivo) o una disminución (porcentaje negativo).\n",
        "porcentaje = float(input('Ingrese el porcentaje de crecimiento de producción: '))\n",
        "if porcentaje > 0:\n",
        "  print('Hubo un crecimiento de {}%.'.format(porcentaje))\n",
        "else:\n",
        "  print('Hubo una disminución de {}%.'.format(porcentaje))\n"
      ],
      "metadata": {
        "colab": {
          "base_uri": "https://localhost:8080/"
        },
        "id": "G_EPtkqjX4Nl",
        "outputId": "725f1766-13d3-424f-f77b-f768494c3df7"
      },
      "execution_count": 43,
      "outputs": [
        {
          "output_type": "stream",
          "name": "stdout",
          "text": [
            "Ingrese el porcentaje de crecimiento de producción: -4\n",
            "Hubo una disminución de -4.0%.\n"
          ]
        }
      ]
    },
    {
      "cell_type": "code",
      "source": [
        "# 3 - Escribe un programa que determine si una letra proporcionada por la persona usuaria es una vocal o una consonante.\n",
        "letra = input('Ingrese una letra: ')\n",
        "if letra in 'aeiou':\n",
        "  print('La letra {} es una vocal.'.format(letra))\n",
        "else:\n",
        "  print('La letra {} es una consonante.'.format(letra))"
      ],
      "metadata": {
        "colab": {
          "base_uri": "https://localhost:8080/"
        },
        "id": "sZ0gRbRgYPnu",
        "outputId": "c7971d4a-f77b-45fa-8130-6d61a9ce1862"
      },
      "execution_count": 45,
      "outputs": [
        {
          "output_type": "stream",
          "name": "stdout",
          "text": [
            "Ingrese una letra: r\n",
            "La letra r es una consonante.\n"
          ]
        }
      ]
    },
    {
      "cell_type": "code",
      "source": [
        "# 4 - Escribe un programa que lea valores promedio de precios de un modelo de automóvil durante 3 años consecutivos y muestre el valor más alto y más bajo entre esos tres años.\n",
        "valor1 = float(input('Ingrese el valor del primer año: '))\n",
        "valor2 = float(input('Ingrese el valor del segundo año: '))\n",
        "valor3 = float(input('Ingrese el valor del tercer año: '))\n",
        "if valor1 > valor2 and valor1 > valor3 and valor2 < valor3:\n",
        "  print('El valor más alto fue: {} y el valor más bajo fue: {}'.format(valor1, valor2))\n",
        "elif valor1 > valor2 and valor1 > valor3 and valor3 < valor2:\n",
        "  print('El valor más alto fue: {} y el valor más bajo fue: {}'.format(valor1, valor3))\n",
        "elif valor2 > valor1 and valor2 > valor3 and valor1 < valor3:\n",
        "  print('El valor más alto fue: {} y el valor más bajo fue: {}'.format(valor2, valor1))\n",
        "elif valor2 > valor1 and valor2 > valor3 and valor3 < valor1:\n",
        "  print('El valor más alto fue: {} y el valor más bajo fue: {}'.format(valor2, valor3))\n",
        "elif valor3 > valor1 and valor3 > valor2 and valor1 < valor2:\n",
        "  print('El valor más alto fue: {} y el valor más bajo fue: {}'.format(valor3, valor1))\n",
        "elif valor3 > valor1 and valor3 > valor2 and valor2 < valor1:\n",
        "  print('El valor más alto fue: {} y el valor más bajo fue: {}'.format(valor3, valor2))\n",
        "else:\n",
        "  print('Todos los valores son iguales.')\n"
      ],
      "metadata": {
        "colab": {
          "base_uri": "https://localhost:8080/"
        },
        "id": "OqP7WA5pYmir",
        "outputId": "6a0ff9f7-016b-4956-9efd-f893b255b590"
      },
      "execution_count": 48,
      "outputs": [
        {
          "output_type": "stream",
          "name": "stdout",
          "text": [
            "Ingrese el valor del primer año: 2500\n",
            "Ingrese el valor del segundo año: 4000\n",
            "Ingrese el valor del tercer año: 3000\n",
            "El valor más alto fue: 4000.0 y el valor más bajo fue: 2500.0\n"
          ]
        }
      ]
    },
    {
      "cell_type": "code",
      "source": [
        "# 5 - Escribe un programa que pregunte sobre el precio de tres productos e indique cuál es el producto más barato para comprar.\n",
        "precio1 = float(input('Ingrese el precio del primer producto: '))\n",
        "precio2 = float(input('Ingrese el precio del segundo producto: '))\n",
        "precio3 = float(input('Ingrese el precio del tercer producto: '))\n",
        "if precio1 < precio2 and precio1 < precio3:\n",
        "  print('El producto más barato es el primero con un precio de: {}'.format(precio1))\n",
        "elif precio2 < precio1 and precio2 < precio3:\n",
        "  print('El producto más barato es el segundo con un precio de: {}'.format(precio2))\n",
        "elif precio3 < precio1 and precio3 < precio2:\n",
        "  print('El producto más barato es el tercero con un precio de: {}'.format(precio3))\n",
        "else:\n",
        "  print('Todos los precios son iguales.')"
      ],
      "metadata": {
        "colab": {
          "base_uri": "https://localhost:8080/"
        },
        "id": "9w4fTrgRbUTC",
        "outputId": "6a44ba86-1b20-4ae1-88cb-4aa6c5b41e9b"
      },
      "execution_count": 49,
      "outputs": [
        {
          "output_type": "stream",
          "name": "stdout",
          "text": [
            "Ingrese el precio del primer producto: 5000\n",
            "Ingrese el precio del segundo producto: 4100\n",
            "Ingrese el precio del tercer producto: 3999\n",
            "El producto más barato es el tercero con un precio de: 3999.0\n"
          ]
        }
      ]
    },
    {
      "cell_type": "code",
      "source": [
        "# 6 - Escribe un programa que lea tres números y los muestre en orden descendente.\n",
        "numero1 = int(input('Ingrese el primer número: '))\n",
        "numero2 = int(input('Ingrese el segundo número: '))\n",
        "numero3 = int(input('Ingrese el tercer número: '))\n",
        "if numero1 > numero2 and numero1 > numero3 and numero2 > numero3:\n",
        "  print('{} {} {}'.format(numero1, numero2, numero3))\n",
        "elif numero1 > numero2 and numero1 > numero3 and numero3 > numero2:\n",
        "  print('{} {} {}'.format(numero1, numero3, numero2))\n",
        "elif numero2 > numero1 and numero2 > numero3 and numero1 > numero3:\n",
        "  print('{} {} {}'.format(numero2, numero1, numero3))\n",
        "elif numero2 > numero1 and numero2 > numero3 and numero3 > numero1:\n",
        "  print('{} {} {}'.format(numero2, numero3, numero1))\n",
        "elif numero3 > numero1 and numero3 > numero2 and numero1 > numero2:\n",
        "  print('{} {} {}'.format(numero3, numero1, numero2))\n",
        "elif numero3 > numero1 and numero3 > numero2 and numero2 > numero1:\n",
        "  print('{} {} {}'.format(numero3, numero2, numero1))\n",
        "else:\n",
        "  print('Todos los números son iguales.')"
      ],
      "metadata": {
        "colab": {
          "base_uri": "https://localhost:8080/"
        },
        "id": "LoafDRMIb2I5",
        "outputId": "f5fb2a52-a9a3-4009-80c2-ecfcb6e50e91"
      },
      "execution_count": 54,
      "outputs": [
        {
          "output_type": "stream",
          "name": "stdout",
          "text": [
            "Ingrese el primer número: 3\n",
            "Ingrese el segundo número: 5\n",
            "Ingrese el tercer número: 7\n",
            "7 5 3\n"
          ]
        }
      ]
    },
    {
      "cell_type": "code",
      "source": [
        "# 7 -Escribe un programa que pregunte en qué turno estudia la persona usuaria (\"mañana\", \"tarde\" o \"noche\") y muestre el mensaje \"¡Buenos Días!\", \"¡Buenas Tardes!\", \"¡Buenas Noches!\" o \"Valor Inválido!\", según el caso.\n",
        "turno = input('Ingrese en qué turno estudia la persona usuaria: ')\n",
        "if turno == 'mañana':\n",
        "  print('¡Buenos Días!')\n",
        "elif turno == 'tarde':\n",
        "  print('¡Buenas Tardes!')\n",
        "elif turno == 'noche':\n",
        "  print('¡Buenas Noches!')\n",
        "else:\n",
        "  print('Valor Inválido!')"
      ],
      "metadata": {
        "colab": {
          "base_uri": "https://localhost:8080/"
        },
        "id": "YQEZ3-IQdMmW",
        "outputId": "060a8fa9-4453-45a1-fb5e-f106cd421360"
      },
      "execution_count": 55,
      "outputs": [
        {
          "output_type": "stream",
          "name": "stdout",
          "text": [
            "Ingrese en qué turno estudia la persona usuaria: mañana\n",
            "¡Buenos Días!\n"
          ]
        }
      ]
    },
    {
      "cell_type": "code",
      "source": [
        "# 8 - Escribe un programa que solicite un número entero a la persona usuaria y determine si es par o impar. Pista: Puedes usar el operador módulo (%).\n",
        "numero = int(input('Ingrese un número entero: '))\n",
        "if numero % 2 == 0:\n",
        "  print('El número {} es par.'.format(numero))\n",
        "else:\n",
        "  print('El número {} es impar.'.format(numero))"
      ],
      "metadata": {
        "colab": {
          "base_uri": "https://localhost:8080/"
        },
        "id": "-oeQZIfLdhB9",
        "outputId": "1aa896e5-2d3b-45ee-f767-767284c3f398"
      },
      "execution_count": 57,
      "outputs": [
        {
          "output_type": "stream",
          "name": "stdout",
          "text": [
            "Ingrese un número entero: 7\n",
            "El número 7 es impar.\n"
          ]
        }
      ]
    },
    {
      "cell_type": "code",
      "source": [
        "# 9 - Escribe un programa que pida un número a la persona usuaria y le informe si es entero o decimal.\n",
        "numero = float(input('Ingrese un número: '))\n",
        "if numero == int(numero):\n",
        "  print('El número {} es entero.'.format(numero))\n",
        "else:\n",
        "  print('El número {} es decimal.'.format(numero))"
      ],
      "metadata": {
        "colab": {
          "base_uri": "https://localhost:8080/"
        },
        "id": "HVlJe42TdvPk",
        "outputId": "644fbdff-e090-4aae-c8ba-21adc177646e"
      },
      "execution_count": 59,
      "outputs": [
        {
          "output_type": "stream",
          "name": "stdout",
          "text": [
            "Ingrese un número: 5\n",
            "El número 5.0 es entero.\n"
          ]
        }
      ]
    },
    {
      "cell_type": "markdown",
      "source": [
        "# Momento de los proyectos"
      ],
      "metadata": {
        "id": "-7RgSvOeeAUT"
      }
    },
    {
      "cell_type": "code",
      "source": [
        "\"\"\"\n",
        "10 - Un programa debe ser escrito para leer dos números y luego preguntar a la persona usuaria qué operación desea realizar.\n",
        "El resultado de la operación debe incluir información sobre el número, si es par o impar, positivo o negativo, e entero o decimal.\n",
        "\n",
        "\"\"\"\n",
        "# Recolectamos los números a operar y solicitamos la operación deseada por el usuario\n",
        "num1 = float(input('Ingrese el primer número: '))\n",
        "num2 = float(input('Ingrese el segundo número: '))\n",
        "operación = input('Ingrese la operación deseada (+, -, *, /): ')\n",
        "\n",
        "# Verificamos la operación seleccionada y realizamos la operación matemática según la elección\n",
        "if operación == '+':\n",
        "    resultado = num1 + num2\n",
        "elif operación == '-':\n",
        "    resultado = num1 - num2\n",
        "elif operación == '*':\n",
        "    resultado = num1 * num2\n",
        "elif operación == '/':\n",
        "    resultado = num1 / num2\n",
        "else: # Especificamos un resultado en caso de que el usuario no ingrese una de las operaciones correctamente.\n",
        "    print('Operación no válida, el resultado de la operación será 0')\n",
        "    resultado = 0\n",
        "\n",
        "# Realizamos las mismas verificaciones que en preguntas anteriores para generar el informe del cálculo entre números\n",
        "if resultado % 1 == 0:\n",
        "    print('El resultado es un número entero.')\n",
        "else:\n",
        "    print('El resultado es un número decimal.')\n",
        "\n",
        "if resultado > 0:\n",
        "    print('El resultado es positivo.')\n",
        "else:\n",
        "    print('El resultado es negativo.')\n",
        "\n",
        "if resultado % 2 == 0:\n",
        "    print('El resultado es un número par.')\n",
        "else:\n",
        "    print('El resultado es un número impar.')\n",
        "\n"
      ],
      "metadata": {
        "colab": {
          "base_uri": "https://localhost:8080/"
        },
        "id": "jLZ7EMkaeLsm",
        "outputId": "bb2ebcb6-3af9-4f54-b52b-62defb52e146"
      },
      "execution_count": 60,
      "outputs": [
        {
          "output_type": "stream",
          "name": "stdout",
          "text": [
            "Ingrese el primer número: 8\n",
            "Ingrese el segundo número: 4\n",
            "Ingrese la operación deseada (+, -, *, /): +\n",
            "El resultado es un número entero.\n",
            "El resultado es positivo.\n",
            "El resultado es un número par.\n"
          ]
        }
      ]
    },
    {
      "cell_type": "code",
      "source": [
        "\"\"\"\n",
        "11 - Escribe un programa que pida a la persona usuaria tres números que representan los lados de un triángulo.\n",
        "El programa debe informar si los valores pueden utilizarse para formar un triángulo y, en caso afirmativo, si es equilátero, isósceles o escaleno.\n",
        "Ten en cuenta algunas sugerencias:\n",
        "\n",
        "Tres lados forman un triángulo cuando la suma de cualesquiera dos lados es mayor que el tercero;\n",
        "Triángulo Equilátero: tres lados iguales;\n",
        "Triángulo Isósceles: dos lados iguales;\n",
        "Triángulo Escaleno: tres lados diferentes.\n",
        "\n",
        "\"\"\"\n",
        "\n",
        "# Recolectamos los lados de un triángulo\n",
        "print('Estamos recopilando los lados de un triángulo.')\n",
        "lado1 = float(input('Ingresa la longitud del primer lado: '))\n",
        "lado2 = float(input('Ingresa la longitud del segundo lado: '))\n",
        "lado3 = float(input('Ingresa la longitud del tercer lado: '))\n",
        "\n",
        "# Verificamos si los lados pueden formar un triángulo\n",
        "if (lado1 + lado2 > lado3) and (lado2 + lado3 > lado1) and (lado1 + lado3 > lado2):\n",
        "    print('¡Los valores pueden formar un triángulo!')\n",
        "    # Comparamos los lados para determinar el tipo de triángulo\n",
        "    if (lado1 == lado2) and (lado2 == lado3):\n",
        "        print('El triángulo es equilátero.')\n",
        "    elif (lado1 != lado2) and (lado2 != lado3) and (lado1 != lado3):\n",
        "        print('El triángulo es escaleno.')\n",
        "    else:\n",
        "        print('El triángulo es isósceles.')\n",
        "else:\n",
        "    print('¡Los valores no pueden formar un triángulo!')\n",
        "\n"
      ],
      "metadata": {
        "colab": {
          "base_uri": "https://localhost:8080/"
        },
        "id": "a-9oeFFrhZoc",
        "outputId": "f5cd9866-eb1f-4a0b-e6cf-273a2c06f5d7"
      },
      "execution_count": 62,
      "outputs": [
        {
          "output_type": "stream",
          "name": "stdout",
          "text": [
            "Estamos recopilando los lados de un triángulo.\n",
            "Ingresa la longitud del primer lado: 14\n",
            "Ingresa la longitud del segundo lado: 12\n",
            "Ingresa la longitud del tercer lado: 16\n",
            "¡Los valores pueden formar un triángulo!\n",
            "El triángulo es escaleno.\n"
          ]
        }
      ]
    },
    {
      "cell_type": "code",
      "source": [
        "\"\"\"\n",
        "12 - Un establecimiento está vendiendo combustibles con descuentos variables.\n",
        "Para el etanol, si la cantidad comprada es de hasta 15 litros, el descuento será del 2% por litro. En caso contrario, será del 4% por litro. Para el diésel,\n",
        "si la cantidad comprada es de hasta 15 litros, el descuento será del 3% por litro. En caso contrario, será del 5% por litro. El precio por litro de diésel es de R$ 2,00\n",
        "y el precio por litro de etanol es de R$ 1,70. Escribe un programa que lea la cantidad de litros vendidos y el tipo de combustible (E para etanol y D para diésel)\n",
        "y calcule el valor a pagar por el cliente. Ten en cuenta algunas sugerencias:\n",
        "\n",
        "El valor del descuento será el producto del precio por litro, la cantidad de litros y el valor del descuento.\n",
        "El valor a pagar por un cliente será el resultado de la multiplicación del precio por litro por la cantidad de\n",
        "litros menos el valor del descuento resultante del cálculo.\n",
        "\n",
        "\"\"\"\n",
        "# Recolectamos la cantidad de litros y el tipo de combustible,\n",
        "# convirtiendo el carácter en mayúsculas para facilitar nuestro análisis\n",
        "cantidad_litros = float(input('Ingrese la cantidad de litros vendidos: '))\n",
        "tipo_combustible = input('Ingrese el tipo de combustible (G para Gasolida y D para diésel): ').upper()\n",
        "\n",
        "# Verificamos primero el tipo de combustible\n",
        "if tipo_combustible == 'G':\n",
        "  # Establecemos el precio por litro de gasolina\n",
        "  precio_litro = 1320\n",
        "  # Según la cantidad de litros, establecemos el descuento correspondiente\n",
        "  if cantidad_litros <= 15:\n",
        "    descuento = 15\n",
        "  else:\n",
        "    descuento = 25\n",
        "elif tipo_combustible == 'D':\n",
        "  # Establecemos el precio por litro de diésel\n",
        "  precio_litro = 1100\n",
        "  # Según la cantidad de litros, establecemos el descuento correspondiente\n",
        "  if cantidad_litros <= 15:\n",
        "    descuento = 12\n",
        "  else:\n",
        "    descuento = 22\n",
        "# En caso de error en la especificación del tipo de combustible,\n",
        "# consideramos las entradas como no válidas y establecemos los precios y descuentos en 0\n",
        "else:\n",
        "    print('Entradas no válidas!')\n",
        "    precio_litro = 0\n",
        "    descuento = 0\n",
        "\n",
        "# Calculamos el valor del descuento, seguido del cálculo del precio descontado\n",
        "valor_descuento = descuento * cantidad_litros\n",
        "valor_pagado = precio_litro * cantidad_litros - valor_descuento\n",
        "\n",
        "# Resultado\n",
        "print(f'Valor a pagar por el cliente: CLP$ {valor_pagado}')"
      ],
      "metadata": {
        "colab": {
          "base_uri": "https://localhost:8080/"
        },
        "id": "ikiXUHUVi99D",
        "outputId": "6608350b-4f0d-4906-884e-116ca47ad24e"
      },
      "execution_count": 65,
      "outputs": [
        {
          "output_type": "stream",
          "name": "stdout",
          "text": [
            "Ingrese la cantidad de litros vendidos: 45\n",
            "Ingrese el tipo de combustible (G para Gasolida y D para diésel): g\n",
            "Valor a pagar por el cliente: CLP$ 58275.0\n"
          ]
        }
      ]
    },
    {
      "cell_type": "code",
      "source": [
        "\"\"\"\n",
        "13 - En una empresa de venta de bienes raíces, debes crear un código que analice los datos de ventas anuales para ayudar a la dirección en la toma de decisiones.\n",
        "El código debe recopilar los datos de cantidad de ventas durante los años 2022 y 2023 y calcular la variación porcentual.\n",
        "A partir del valor de la variación, se deben proporcionar las siguientes sugerencias:\n",
        "\n",
        "Para una variación superior al 20%: bonificación para el equipo de ventas.\n",
        "Para una variación entre el 2% y el 20%: pequeña bonificación para el equipo de ventas.\n",
        "Para una variación entre el 2% y el -10%: planificación de políticas de incentivo a las ventas.\n",
        "Para bonificaciones inferiores al -10%: recorte de gastos.\n",
        "\n",
        "\"\"\"\n",
        "# Recolectamos las ventas de los dos años\n",
        "venta_2022 = float(input('Ingrese la cantidad de ventas en 2022: '))\n",
        "venta_2023 = float(input('Ingrese la cantidad de ventas en 2023: '))\n",
        "\n",
        "# Calculamos la variación porcentual entre las ventas de los años 2022 y 2023\n",
        "var_porcentual = 100 * (venta_2023 - venta_2022) / (venta_2022)\n",
        "\n",
        "# Análisis condicional de la variación porcentual para determinar la sugerencia a enviar\n",
        "if var_porcentual > 20:\n",
        "    print('Bonificación para el equipo de ventas.')\n",
        "elif 2 <= var_porcentual <= 20:\n",
        "    print('Pequeña bonificación para el equipo de ventas.')\n",
        "elif -10 <= var_porcentual < 2:\n",
        "    print('Planificación de políticas de incentivo a las ventas.')\n",
        "else:\n",
        "    print('Recorte de gastos.')\n"
      ],
      "metadata": {
        "colab": {
          "base_uri": "https://localhost:8080/"
        },
        "id": "8st7RC-tiszm",
        "outputId": "e5906643-60ad-4af0-aa17-821b7309c56e"
      },
      "execution_count": 67,
      "outputs": [
        {
          "output_type": "stream",
          "name": "stdout",
          "text": [
            "Ingrese la cantidad de ventas en 2022: 40\n",
            "Ingrese la cantidad de ventas en 2023: 300\n",
            "Bonificación para el equipo de ventas.\n"
          ]
        }
      ]
    },
    {
      "cell_type": "markdown",
      "source": [
        "# FIN AULA 3"
      ],
      "metadata": {
        "id": "PlvpoNhRl5s6"
      }
    },
    {
      "cell_type": "markdown",
      "source": [
        "# Estructuras de repetición"
      ],
      "metadata": {
        "id": "aL1vJPewvwvz"
      }
    },
    {
      "cell_type": "markdown",
      "source": [
        "Cuando tenemos que ejecutar un mismo bloque de comandos durante varias ocasiones no es nada práctico hacerlo a mano.\n",
        "\n",
        "**Situación**: Nos fue solicitado obtener e imprimir el promedio de 2 notas de **3 estudantes**:"
      ],
      "metadata": {
        "id": "VcPfCa8d-84t"
      }
    },
    {
      "cell_type": "code",
      "source": [],
      "metadata": {
        "id": "xcx21IGT9qA0"
      },
      "execution_count": null,
      "outputs": []
    },
    {
      "cell_type": "code",
      "source": [],
      "metadata": {
        "id": "Wtbiy9Ay9rGJ"
      },
      "execution_count": null,
      "outputs": []
    },
    {
      "cell_type": "code",
      "source": [],
      "metadata": {
        "id": "Yfyz4anY9rIr"
      },
      "execution_count": null,
      "outputs": []
    },
    {
      "cell_type": "markdown",
      "source": [
        "Ahora imaginemos una situación en que no son tan solo 3 estudiantes, sino 100 estudiantes. No sería nada interesante repetir el mismo código 100 veces, sino **ejecutar el mismo código 100 veces**.\n",
        "\n",
        "¡Esta estructura la logramos construir con lazos de repetición!"
      ],
      "metadata": {
        "id": "9puIuvUbFSFX"
      }
    },
    {
      "cell_type": "markdown",
      "source": [
        "## `WHILE`"
      ],
      "metadata": {
        "id": "uLO9-aE4-wx8"
      }
    },
    {
      "cell_type": "markdown",
      "source": [
        "El lazo `while` es una estructura de control de repetición en Python que permite ejecutar un bloque de código repetidamente mientras que una determinada condición sea verdadera. Su estructura es:\n",
        "\n",
        "\n",
        "\n",
        "```\n",
        "while condicion:\n",
        "    # bloque de codigo\n",
        "```\n",
        "\n",
        "Vamos a construir un ejemplo con un contador de 1 hasta 10.\n"
      ],
      "metadata": {
        "id": "rXZxDMiqHxm9"
      }
    },
    {
      "cell_type": "code",
      "source": [],
      "metadata": {
        "id": "Hd0ZSWxD9wCD"
      },
      "execution_count": null,
      "outputs": []
    },
    {
      "cell_type": "code",
      "source": [],
      "metadata": {
        "id": "miFHNqp29nOL"
      },
      "execution_count": null,
      "outputs": []
    },
    {
      "cell_type": "markdown",
      "source": [
        "Ahora vamos a colectar las notas y promedios de cada alumno dentro del lazo `while`. Haremos un ejemplo con 3 promedios."
      ],
      "metadata": {
        "id": "W4KZPBJuIrut"
      }
    },
    {
      "cell_type": "code",
      "source": [],
      "metadata": {
        "id": "9T5eCLFx9wk6"
      },
      "execution_count": null,
      "outputs": []
    },
    {
      "cell_type": "code",
      "source": [],
      "metadata": {
        "id": "P6E0_dW-9lZ9"
      },
      "execution_count": null,
      "outputs": []
    },
    {
      "cell_type": "markdown",
      "source": [
        "## `FOR`"
      ],
      "metadata": {
        "id": "WgAIaENMMfCP"
      }
    },
    {
      "cell_type": "markdown",
      "source": [
        "El lazo `for` es un tipo de estructura de control de flujo en Python que permite iterar sobre un conjunto de elementos. Su estructura es:\n",
        "\n",
        "\n",
        "\n",
        "```\n",
        "for elemento in conjunto:\n",
        "    # codigo a ser ejecutado para cada elemento\n",
        "```\n",
        "\n",
        "El lazo `for` itera sobre cada elemento del conjunto especificado y ejecuta el bloque de código dentro del lazo para cada elemento. Cuando el lazo llega al final del conjunto, este se interrumpe y el programa continúa la ejecución después del lazo.\n",
        "\n"
      ],
      "metadata": {
        "id": "HxrSZoRAMh-x"
      }
    },
    {
      "cell_type": "markdown",
      "source": [
        "El conjunto lo podemos generar con la función incorporada [`range()`](https://docs.python.org/3/library/functions.html#func-range). Se trata de una función capaz de generar una secuencia de números enteros. La estructura de esta función es:\n",
        "\n",
        "```\n",
        "range(inicio, fin, paso)\n",
        "```\n",
        "\n",
        "Según la documentación, `range()` genera una secuencia de números enteros a partir del valor del parámetro `inicio` hasta el valor del parámetro `fin`, de acuerdo con el valor del parámetro `paso`. Si `inicio` no es especificado, el valor por defecto es `0`. Si `paso` no es especificado, el valor por defecto es `1`.\n",
        "\n",
        "\n"
      ],
      "metadata": {
        "id": "6VgjyoQtPHBM"
      }
    },
    {
      "cell_type": "markdown",
      "source": [
        "Vamos a recrear el mismo contador `while` con el lazo `for`."
      ],
      "metadata": {
        "id": "ryn0hfdlUwC8"
      }
    },
    {
      "cell_type": "code",
      "source": [],
      "metadata": {
        "id": "KkL1wUIj9jL4"
      },
      "execution_count": null,
      "outputs": []
    },
    {
      "cell_type": "code",
      "source": [],
      "metadata": {
        "id": "uXIZnLSr9jOu"
      },
      "execution_count": null,
      "outputs": []
    },
    {
      "cell_type": "markdown",
      "source": [
        "# Estructuras de datos"
      ],
      "metadata": {
        "id": "8noP8OJ0Vhux"
      }
    },
    {
      "cell_type": "markdown",
      "source": [
        "Un conjunto de elementos es una colección de items, que son almacenados juntos de manera organizada. Algunos ejemplos de conjuntos de elementos en Python son las listas, los strings y los diccionarios."
      ],
      "metadata": {
        "id": "xpEUkefTu8fY"
      }
    },
    {
      "cell_type": "markdown",
      "source": [
        "## Listas"
      ],
      "metadata": {
        "id": "THSg4KYLwxIb"
      }
    },
    {
      "cell_type": "markdown",
      "source": [
        "Las listas pueden almacenar una colección de items en orden. Ellas son delimitadas por corchetes `[]` y sus elementos son separados por comas.\n",
        "\n",
        "Estas pueden almacenar cualquier tipo de items, incluyendo números, strings, objetos, otras listas, entre otros. También nos permiten almacenar items de tipos de datos diferentes juntos en una única lista."
      ],
      "metadata": {
        "id": "dzpsiqrOyJcK"
      }
    },
    {
      "cell_type": "code",
      "source": [
        "lista = ['Penélope Camacho',9.5,9.0,9.7,True]\n",
        "lista"
      ],
      "metadata": {
        "id": "DO3TBj7nAYeG",
        "colab": {
          "base_uri": "https://localhost:8080/"
        },
        "outputId": "fbee2eb5-265e-4b5b-badf-a0dd9331074b"
      },
      "execution_count": null,
      "outputs": [
        {
          "output_type": "execute_result",
          "data": {
            "text/plain": [
              "['Penélope Camacho', 9.5, 9.0, 9.7, True]"
            ]
          },
          "metadata": {},
          "execution_count": 62
        }
      ]
    },
    {
      "cell_type": "code",
      "source": [],
      "metadata": {
        "id": "DO2ubP9N9D_2"
      },
      "execution_count": null,
      "outputs": []
    },
    {
      "cell_type": "markdown",
      "source": [
        "Las listas son organizadas en Python porque **cada elemento de la lista tiene un índice que indica su posición al interior de la lista**. Los índices comienzan en 0 van hasta el tamaño de la lista menos 1."
      ],
      "metadata": {
        "id": "qUz3sJNl6LgK"
      }
    },
    {
      "cell_type": "markdown",
      "source": [
        "Tenemos entonces 5 elementos con índices que varían de 0 a 4, ordenadamente:\n",
        "\n",
        "```\n",
        "#             [0]           [1]   [2]   [3]    [4]\n",
        "lista = ['Penélope Camacho', 9.5 , 9.0 , 9.7 , True]\n",
        "```\n",
        "\n",
        "En Python tenemos también los índices **negativos** que se inician en el último elemento con el valor de `-1` y avanzan en el universo de los negativos hasta llegar al 1° elemento:\n",
        "\n",
        "```\n",
        "#             [-5]         [-4]  [-3]  [-2]   [-1]\n",
        "lista = ['Penélope Camacho', 9.5 , 9.0 , 9.7 , True]\n",
        "```\n",
        "\n",
        "Logramos seleccionar separadamente cada elemento a través de sus respectivos índices. Colocando el nombre de la lista y en seguida el índice que será seleccionado."
      ],
      "metadata": {
        "id": "rLf-Qg526hFD"
      }
    },
    {
      "cell_type": "code",
      "source": [],
      "metadata": {
        "id": "4hco1Zqy88Kw"
      },
      "execution_count": null,
      "outputs": []
    },
    {
      "cell_type": "code",
      "source": [],
      "metadata": {
        "id": "M8lH0I2288Ph"
      },
      "execution_count": null,
      "outputs": []
    },
    {
      "cell_type": "markdown",
      "source": [
        "Una forma más dinámica de trabajar item a item en una lista es utilizando un lazo `for` para leer un elemento a la vez."
      ],
      "metadata": {
        "id": "6TaE1ijmBTCd"
      }
    },
    {
      "cell_type": "code",
      "source": [],
      "metadata": {
        "id": "rBx4Yu1786Sy"
      },
      "execution_count": null,
      "outputs": []
    },
    {
      "cell_type": "markdown",
      "source": [
        "**Situación**: La nota `9.0` de Penélope necesita ser ajustada pues ganó 1 punto en su última nota por participación en clase. Entonces es necesario realizar un cambio en el índice `2` de `9.0` a `10.0`."
      ],
      "metadata": {
        "id": "Dh1_HnIVvucY"
      }
    },
    {
      "cell_type": "code",
      "source": [],
      "metadata": {
        "id": "bVPoZg668z3T"
      },
      "execution_count": null,
      "outputs": []
    },
    {
      "cell_type": "code",
      "source": [],
      "metadata": {
        "id": "Jo_PBQ0g8z7D"
      },
      "execution_count": null,
      "outputs": []
    },
    {
      "cell_type": "markdown",
      "source": [
        "También podemos calcular el promedio del estudiante a partir de los datos que tenemos."
      ],
      "metadata": {
        "id": "53XduzXkycAf"
      }
    },
    {
      "cell_type": "code",
      "source": [],
      "metadata": {
        "id": "SIH61Rrb8yv4"
      },
      "execution_count": null,
      "outputs": []
    },
    {
      "cell_type": "markdown",
      "source": [
        "## Manipulación de listas\n",
        "\n",
        "Las listas son muy útiles en Python porque nos permiten almacenar y acceder a una colección de items de manera organizada y rápida. Estas también ofrecen muchos métodos útiles para manipular los itens almacenados, como adicionar, remover, clasificar y buscar elementos."
      ],
      "metadata": {
        "id": "d-iYr10-y4qw"
      }
    },
    {
      "cell_type": "markdown",
      "source": [
        "#### Cantidad de elementos\n",
        "\n",
        "Usamos la función [`len()`](https://docs.python.org/3/library/functions.html#len) para descubrir la cantidad de elementos de un conjunto."
      ],
      "metadata": {
        "id": "ZLqx9A97XVB_"
      }
    },
    {
      "cell_type": "code",
      "source": [],
      "metadata": {
        "id": "6q1Tmm7P8wQf"
      },
      "execution_count": null,
      "outputs": []
    },
    {
      "cell_type": "markdown",
      "source": [
        "#### Partición\n",
        "\n",
        "La partición de listas por indexación en Python es una técnica muy útil para seleccionar un subconjunto de elementos de una lista. Esta se realiza usando la sintaxis `lista[inicio:fin]`, donde `inicio` es el índice del primer elemento que será incluído en la partición `fin` es el índice del primer elemento que será excluído de la partición."
      ],
      "metadata": {
        "id": "Z5tpstlHJss3"
      }
    },
    {
      "cell_type": "code",
      "source": [],
      "metadata": {
        "id": "NctvJTTU8uV9"
      },
      "execution_count": null,
      "outputs": []
    },
    {
      "cell_type": "code",
      "source": [],
      "metadata": {
        "id": "bQZUwldj8uY2"
      },
      "execution_count": null,
      "outputs": []
    },
    {
      "cell_type": "markdown",
      "source": [
        "#### [`append()`](https://docs.python.org/3/tutorial/datastructures.html#:~:text=of%20list%20objects%3A-,list.append(x),-Add%20an%20item)\n",
        "\n",
        "Añade un elemento al final de la lista."
      ],
      "metadata": {
        "id": "O0RRyabkRzZC"
      }
    },
    {
      "cell_type": "code",
      "source": [],
      "metadata": {
        "id": "_Q0oODwa8spC"
      },
      "execution_count": null,
      "outputs": []
    },
    {
      "cell_type": "code",
      "source": [],
      "metadata": {
        "id": "RM894r2M8sse"
      },
      "execution_count": null,
      "outputs": []
    },
    {
      "cell_type": "markdown",
      "source": [
        "#### [`extend()`](https://docs.python.org/3/tutorial/datastructures.html#:~:text=list.extend(iterable))\n",
        "\n",
        "Añade varios elementos al final de la lista.\n",
        "\n",
        "Añadiremos las notas `[10.0,8.0,9.0]` En la lista de Penélope Camacho."
      ],
      "metadata": {
        "id": "uQV91XMsUOJD"
      }
    },
    {
      "cell_type": "code",
      "source": [],
      "metadata": {
        "id": "6Zk2MpMw8rQc"
      },
      "execution_count": null,
      "outputs": []
    },
    {
      "cell_type": "code",
      "source": [],
      "metadata": {
        "id": "NnoKkoWb8rTQ"
      },
      "execution_count": null,
      "outputs": []
    },
    {
      "cell_type": "markdown",
      "source": [
        "*A continuación te mostraremos lo que no puede realizarse con* `append`."
      ],
      "metadata": {
        "id": "IVJvkTwNUk6M"
      }
    },
    {
      "cell_type": "code",
      "source": [],
      "metadata": {
        "id": "u3Eub2ZL8pp3"
      },
      "execution_count": null,
      "outputs": []
    },
    {
      "cell_type": "code",
      "source": [],
      "metadata": {
        "id": "tsKK5Ne58pvN"
      },
      "execution_count": null,
      "outputs": []
    },
    {
      "cell_type": "markdown",
      "source": [
        "#### [`remove()`](https://docs.python.org/3/tutorial/datastructures.html#:~:text=append(x).-,list.remove(x),-Remove%20the%20first)\n",
        "\n",
        "Remueve un elemento específico de la lista."
      ],
      "metadata": {
        "id": "dPGM5gpyUX1z"
      }
    },
    {
      "cell_type": "code",
      "source": [],
      "metadata": {
        "id": "mmboODPc8nd5"
      },
      "execution_count": null,
      "outputs": []
    },
    {
      "cell_type": "code",
      "source": [],
      "metadata": {
        "id": "T_w6vVgV8nh_"
      },
      "execution_count": null,
      "outputs": []
    },
    {
      "cell_type": "markdown",
      "source": [
        "## Diccionario"
      ],
      "metadata": {
        "id": "Rc22Vc08YDZ2"
      }
    },
    {
      "cell_type": "markdown",
      "source": [
        "Los diccionarios son un tipo de estructura de datos que almacenan pares de *llave-valor*. Estos son delimitados por llaves `{}` y los pares *llave-valor* son separados por comas.\n",
        "\n",
        "```\n",
        "diccionario = {llave: valor}\n",
        "```\n",
        "\n",
        "La **llave** es un elemento único que identifica a un valor en el diccionario, mientras que el **valor** es el item que será almacenado para la llave. Las llaves y sus respectivos valores se pueden emplear para **cualquier tipo de dato**.\n",
        "\n",
        "Los diccionarios son útiles para almacenar y acceder a los datos de manera organizada y rápida. Se trata de un tipo de conjunto de elementos en Python, pues almacenan una colección de items."
      ],
      "metadata": {
        "id": "PJ-cCKPjeWxL"
      }
    },
    {
      "cell_type": "code",
      "source": [],
      "metadata": {
        "id": "NDHhzooE8ld5"
      },
      "execution_count": null,
      "outputs": []
    },
    {
      "cell_type": "code",
      "source": [],
      "metadata": {
        "id": "AVOzqzy-8lhh"
      },
      "execution_count": null,
      "outputs": []
    },
    {
      "cell_type": "markdown",
      "source": [
        "---\n",
        "**Situación:**\n",
        "\n",
        "Vamos a crear un conjunto de datos con las informaciones de matrícula de un estudiante. Los datos son los siguientes:\n",
        "\n",
        "- matrícula: 2000168933\n",
        "- día de registro: 25\n",
        "- mes de registro: 10\n",
        "- grupo: 2E"
      ],
      "metadata": {
        "id": "_JbQ3KMKfkXU"
      }
    },
    {
      "cell_type": "code",
      "source": [],
      "metadata": {
        "id": "0lfOu_c38jED"
      },
      "execution_count": null,
      "outputs": []
    },
    {
      "cell_type": "code",
      "source": [],
      "metadata": {
        "id": "XIuqpTTy8jHV"
      },
      "execution_count": null,
      "outputs": []
    },
    {
      "cell_type": "markdown",
      "source": [
        "Es posible sustituir los valores dentro de una llave. Por ejemplo, recibimos la información de que el grupo del estudiante que registramos cambio a `'2G'` y ahora necesitamos cambiar el valor de la llave `'grupo'`."
      ],
      "metadata": {
        "id": "8ex5pt2ykDd2"
      }
    },
    {
      "cell_type": "code",
      "source": [],
      "metadata": {
        "id": "kQGlp36b8fyP"
      },
      "execution_count": null,
      "outputs": []
    },
    {
      "cell_type": "code",
      "source": [],
      "metadata": {
        "id": "DnfH_qHi8f17"
      },
      "execution_count": null,
      "outputs": []
    },
    {
      "cell_type": "markdown",
      "source": [
        "También podemos añadir otros datos al diccionario. Vamos a añadir la información sobre la modalidad de estudio, nuestro estudiante estudiará inicialemente en la modalidad EAD.\n",
        "\n",
        "Definiremos una llave llamada `'modalidad'` con el valor `'EAD'`."
      ],
      "metadata": {
        "id": "wB0qRb56mQvv"
      }
    },
    {
      "cell_type": "code",
      "source": [],
      "metadata": {
        "id": "EeLYdlIm8d8a"
      },
      "execution_count": null,
      "outputs": []
    },
    {
      "cell_type": "code",
      "source": [],
      "metadata": {
        "id": "olDIavsm8d_o"
      },
      "execution_count": null,
      "outputs": []
    },
    {
      "cell_type": "markdown",
      "source": [
        "## Profundizando en diccionarios"
      ],
      "metadata": {
        "id": "LJ3o_inroxg_"
      }
    },
    {
      "cell_type": "markdown",
      "source": [
        "#### [`pop()`](https://python-reference.readthedocs.io/en/latest/docs/dict/pop.html)\n",
        "Remueve un item de un diccionario y lo representa en la salida."
      ],
      "metadata": {
        "id": "2N3GLlkSpBiu"
      }
    },
    {
      "cell_type": "code",
      "source": [],
      "metadata": {
        "id": "ZsSCZx6G8b-T"
      },
      "execution_count": null,
      "outputs": []
    },
    {
      "cell_type": "code",
      "source": [],
      "metadata": {
        "id": "7lQ8_jpi8cBR"
      },
      "execution_count": null,
      "outputs": []
    },
    {
      "cell_type": "markdown",
      "source": [
        "#### [`items()`](https://python-reference.readthedocs.io/en/latest/docs/dict/items.html)\n",
        "Retorna una lista de pares `llave-valor` del diccionario."
      ],
      "metadata": {
        "id": "sYZGvJJYrW_y"
      }
    },
    {
      "cell_type": "code",
      "source": [],
      "metadata": {
        "id": "ncdycLV08an7"
      },
      "execution_count": null,
      "outputs": []
    },
    {
      "cell_type": "markdown",
      "source": [
        "#### [`keys()`](https://python-reference.readthedocs.io/en/latest/docs/dict/keys.html)\n",
        "Retorna una lista de las llaves del diccionario."
      ],
      "metadata": {
        "id": "Lb0utNFGrZBY"
      }
    },
    {
      "cell_type": "code",
      "source": [],
      "metadata": {
        "id": "eZo0biaM8ZVs"
      },
      "execution_count": null,
      "outputs": []
    },
    {
      "cell_type": "markdown",
      "source": [
        "#### [`values()`](https://python-reference.readthedocs.io/en/latest/docs/dict/values.html)\n",
        "Retorna una lista de los valores del diccionario."
      ],
      "metadata": {
        "id": "qKyu3bf9rbtX"
      }
    },
    {
      "cell_type": "code",
      "source": [],
      "metadata": {
        "id": "-NxRT9C18Yvo"
      },
      "execution_count": null,
      "outputs": []
    },
    {
      "cell_type": "markdown",
      "source": [
        "### Lectura de valores con el lazo `for`"
      ],
      "metadata": {
        "id": "e3XVjR8Frp75"
      }
    },
    {
      "cell_type": "code",
      "source": [],
      "metadata": {
        "id": "NYcjU-Ip8Xan"
      },
      "execution_count": null,
      "outputs": []
    },
    {
      "cell_type": "code",
      "source": [],
      "metadata": {
        "id": "aAnpP1Wv8XfJ"
      },
      "execution_count": null,
      "outputs": []
    }
  ]
}